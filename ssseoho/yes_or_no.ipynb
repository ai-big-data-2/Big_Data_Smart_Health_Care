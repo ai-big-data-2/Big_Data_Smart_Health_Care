{
 "cells": [
  {
   "cell_type": "code",
   "execution_count": 1,
   "metadata": {},
   "outputs": [],
   "source": [
    "import seaborn as sns\n",
    "import pandas as pd\n",
    "import numpy as np\n",
    "import matplotlib.pyplot as plt #그래프 출력시\n",
    "import matplotlib as mpl #그래프 옵션\n",
    "#그래프 시각화 옵션\n",
    "%matplotlib inline\n",
    "#그래프 한글 설정\n",
    "mpl.rc('font',family = \"NanumGothic\")\n",
    "from IPython.display import set_matplotlib_formats\n",
    "#그래프의 한글을 더욱 선명하게 출력\n",
    "from IPython.display import set_matplotlib_formats\n",
    "set_matplotlib_formats('retina')\n",
    "#그래프에서 음수값이 나올 떄, 깨지는 현상 방지\n",
    "mpl.rc('axes', unicode_minus = False)\n",
    "\n",
    "pd.options.display.max_columns = 100"
   ]
  },
  {
   "cell_type": "code",
   "execution_count": 2,
   "metadata": {},
   "outputs": [
    {
     "name": "stdout",
     "output_type": "stream",
     "text": [
      "(925724, 30)\n"
     ]
    }
   ],
   "source": [
    "data = pd.read_csv('/home/pirl/Downloads/dataset_0225_eysidecision treeght.csv')\n",
    "print(data.shape)"
   ]
  },
  {
   "cell_type": "code",
   "execution_count": 3,
   "metadata": {},
   "outputs": [],
   "source": [
    "# normal = (data['총콜레스테롤'] <= 200) & (data['LDL콜레스테롤'] <= 130) & (data['HDL콜레스테롤'] >= 60) & (data['트리글리세라이드'] <= 150)"
   ]
  },
  {
   "cell_type": "code",
   "execution_count": 4,
   "metadata": {},
   "outputs": [],
   "source": [
    "def abnormal(row):\n",
    "    if(row['총콜레스테롤'] >= 240) | (row['LDL콜레스테롤'] >= 160) | (row['HDL콜레스테롤'] < 40) | (row['트리글리세라이드'] >= 200):\n",
    "        return 1 \n",
    "    else:\n",
    "        return 0\n",
    "data['이상지질혈증']=data.apply(abnormal,axis=1)"
   ]
  },
  {
   "cell_type": "code",
   "execution_count": 5,
   "metadata": {},
   "outputs": [],
   "source": [
    "data[\"지질혈증 의사 판정\"]=(data['총콜레스테롤']>=240)|(data[\"트리글리세라이드\"]>=200)|(data[\"HDL콜레스테롤\"] < 40)|(data[\"LDL콜레스테롤\"]>=160)"
   ]
  },
  {
   "cell_type": "code",
   "execution_count": 6,
   "metadata": {},
   "outputs": [],
   "source": [
    "data[\"지질혈증 의사 판정\"]=data[\"지질혈증 의사 판정\"].replace({True:1,False:0})"
   ]
  },
  {
   "cell_type": "code",
   "execution_count": 7,
   "metadata": {
    "scrolled": true
   },
   "outputs": [],
   "source": [
    "# data['이상지질혈증']=data.apply(abnormal,axis=1)"
   ]
  },
  {
   "cell_type": "code",
   "execution_count": 8,
   "metadata": {},
   "outputs": [
    {
     "data": {
      "text/plain": [
       "0    682036\n",
       "1    243688\n",
       "Name: 지질혈증 의사 판정, dtype: int64"
      ]
     },
     "execution_count": 8,
     "metadata": {},
     "output_type": "execute_result"
    }
   ],
   "source": [
    "data['지질혈증 의사 판정'].value_counts()"
   ]
  },
  {
   "cell_type": "code",
   "execution_count": 9,
   "metadata": {
    "collapsed": true
   },
   "outputs": [
    {
     "name": "stdout",
     "output_type": "stream",
     "text": [
      "<class 'pandas.core.frame.DataFrame'>\n",
      "RangeIndex: 925724 entries, 0 to 925723\n",
      "Data columns (total 31 columns):\n",
      "가입자일련번호        925724 non-null int64\n",
      "성별코드           925724 non-null int64\n",
      "연령대코드(5세단위)    925724 non-null int64\n",
      "시도코드           925724 non-null int64\n",
      "신장(5Cm단위)      925724 non-null float64\n",
      "체중(5Kg단위)      925724 non-null float64\n",
      "허리둘레           925724 non-null float64\n",
      "시력(좌)          925724 non-null int64\n",
      "시력(우)          925724 non-null int64\n",
      "청력(좌)          925724 non-null float64\n",
      "청력(우)          925724 non-null float64\n",
      "수축기혈압          925724 non-null float64\n",
      "이완기혈압          925724 non-null float64\n",
      "식전혈당(공복혈당)     925724 non-null float64\n",
      "총콜레스테롤         925724 non-null float64\n",
      "트리글리세라이드       925724 non-null float64\n",
      "HDL콜레스테롤       925724 non-null float64\n",
      "LDL콜레스테롤       925724 non-null float64\n",
      "혈색소            925724 non-null float64\n",
      "요단백            925724 non-null float64\n",
      "혈청크레아티닌        925724 non-null float64\n",
      "(혈청지오티)AST     925724 non-null float64\n",
      "(혈청지오티)ALT     925724 non-null float64\n",
      "감마지티피          925724 non-null float64\n",
      "흡연상태           925724 non-null float64\n",
      "구강검진 수검여부      925724 non-null int64\n",
      "당뇨병 의사 판정      925724 non-null float64\n",
      "고혈압 의사 판정      925724 non-null float64\n",
      "간기능 이상여부       925724 non-null float64\n",
      "알콜성간염여부        925724 non-null float64\n",
      "지질혈증 의사 판정     925724 non-null int64\n",
      "dtypes: float64(23), int64(8)\n",
      "memory usage: 218.9 MB\n"
     ]
    }
   ],
   "source": [
    "data.info()"
   ]
  },
  {
   "cell_type": "code",
   "execution_count": 10,
   "metadata": {},
   "outputs": [],
   "source": [
    "#병 1개\n",
    "data['당뇨병_단일'] = ((data['당뇨병 의사 판정'] == 1) & (data['고혈압 의사 판정'] == 0) & (data['지질혈증 의사 판정'] == 0))\n",
    "data['고혈압_단일'] = ((data['당뇨병 의사 판정'] == 0) & (data['고혈압 의사 판정'] == 1) & (data['지질혈증 의사 판정'] == 0))\n",
    "data['지질혈증_단일'] = ((data['당뇨병 의사 판정'] == 0) & (data['고혈압 의사 판정'] == 0) & (data['지질혈증 의사 판정'] == 1))\n",
    "#병 2개\n",
    "data['합병증_(당뇨_고혈압)'] = ((data['당뇨병 의사 판정'] == 1) & (data['고혈압 의사 판정'] == 1) & (data['지질혈증 의사 판정'] == 0)) \n",
    "data['합병증_(지질_고혈압)'] = ((data['지질혈증 의사 판정'] == 1) & (data['고혈압 의사 판정'] == 1) & (data['당뇨병 의사 판정'] == 0))\n",
    "data['합병증_(당뇨_지질)'] = ((data['당뇨병 의사 판정'] == 1) & (data['지질혈증 의사 판정'] == 1) & (data['고혈압 의사 판정'] == 0))\n",
    "#병 3개\n",
    "data['합병증 종합'] = ((data['고혈압 의사 판정'] == 1) & (data['당뇨병 의사 판정'] == 1) & (data['지질혈증 의사 판정'] == 1))"
   ]
  },
  {
   "cell_type": "code",
   "execution_count": 11,
   "metadata": {},
   "outputs": [],
   "source": [
    "data['당뇨병_단일'] = data['당뇨병_단일'].replace({True:1,False:0})\n",
    "data['고혈압_단일'] = data['고혈압_단일'].replace({True:1,False:0})\n",
    "data['지질혈증_단일'] = data['지질혈증_단일'].replace({True:1,False:0})\n",
    "data['합병증_(당뇨_고혈압)'] = data['합병증_(당뇨_고혈압)'].replace({True:1,False:0})\n",
    "data['합병증_(지질_고혈압)'] = data['합병증_(지질_고혈압)'].replace({True:1,False:0})\n",
    "data['합병증_(당뇨_지질)'] = data['합병증_(당뇨_지질)'].replace({True:1,False:0})\n",
    "data['합병증 종합'] = data['합병증 종합'].replace({True:1,False:0})"
   ]
  },
  {
   "cell_type": "code",
   "execution_count": 12,
   "metadata": {},
   "outputs": [
    {
     "name": "stdout",
     "output_type": "stream",
     "text": [
      "<class 'pandas.core.frame.DataFrame'>\n",
      "RangeIndex: 925724 entries, 0 to 925723\n",
      "Data columns (total 38 columns):\n",
      "가입자일련번호         925724 non-null int64\n",
      "성별코드            925724 non-null int64\n",
      "연령대코드(5세단위)     925724 non-null int64\n",
      "시도코드            925724 non-null int64\n",
      "신장(5Cm단위)       925724 non-null float64\n",
      "체중(5Kg단위)       925724 non-null float64\n",
      "허리둘레            925724 non-null float64\n",
      "시력(좌)           925724 non-null int64\n",
      "시력(우)           925724 non-null int64\n",
      "청력(좌)           925724 non-null float64\n",
      "청력(우)           925724 non-null float64\n",
      "수축기혈압           925724 non-null float64\n",
      "이완기혈압           925724 non-null float64\n",
      "식전혈당(공복혈당)      925724 non-null float64\n",
      "총콜레스테롤          925724 non-null float64\n",
      "트리글리세라이드        925724 non-null float64\n",
      "HDL콜레스테롤        925724 non-null float64\n",
      "LDL콜레스테롤        925724 non-null float64\n",
      "혈색소             925724 non-null float64\n",
      "요단백             925724 non-null float64\n",
      "혈청크레아티닌         925724 non-null float64\n",
      "(혈청지오티)AST      925724 non-null float64\n",
      "(혈청지오티)ALT      925724 non-null float64\n",
      "감마지티피           925724 non-null float64\n",
      "흡연상태            925724 non-null float64\n",
      "구강검진 수검여부       925724 non-null int64\n",
      "당뇨병 의사 판정       925724 non-null float64\n",
      "고혈압 의사 판정       925724 non-null float64\n",
      "간기능 이상여부        925724 non-null float64\n",
      "알콜성간염여부         925724 non-null float64\n",
      "지질혈증 의사 판정      925724 non-null int64\n",
      "당뇨병_단일          925724 non-null int64\n",
      "고혈압_단일          925724 non-null int64\n",
      "지질혈증_단일         925724 non-null int64\n",
      "합병증_(당뇨_고혈압)    925724 non-null int64\n",
      "합병증_(지질_고혈압)    925724 non-null int64\n",
      "합병증_(당뇨_지질)     925724 non-null int64\n",
      "합병증 종합          925724 non-null int64\n",
      "dtypes: float64(23), int64(15)\n",
      "memory usage: 268.4 MB\n"
     ]
    }
   ],
   "source": [
    "data.info()"
   ]
  },
  {
   "cell_type": "markdown",
   "metadata": {},
   "source": [
    "## ============= Testing ============="
   ]
  },
  {
   "cell_type": "code",
   "execution_count": 81,
   "metadata": {},
   "outputs": [
    {
     "data": {
      "text/plain": [
       "1    36251\n",
       "Name: 당뇨병_단일, dtype: int64"
      ]
     },
     "execution_count": 81,
     "metadata": {},
     "output_type": "execute_result"
    }
   ],
   "source": [
    "data[data['당뇨병_단일'] == 1]['당뇨병_단일'].value_counts()"
   ]
  },
  {
   "cell_type": "code",
   "execution_count": 83,
   "metadata": {},
   "outputs": [
    {
     "data": {
      "text/plain": [
       "1    20412\n",
       "Name: 고혈압_단일, dtype: int64"
      ]
     },
     "execution_count": 83,
     "metadata": {},
     "output_type": "execute_result"
    }
   ],
   "source": [
    "data[data['고혈압_단일'] == 1]['고혈압_단일'].value_counts()"
   ]
  },
  {
   "cell_type": "code",
   "execution_count": 84,
   "metadata": {},
   "outputs": [
    {
     "data": {
      "text/plain": [
       "1    209256\n",
       "Name: 지질혈증_단일, dtype: int64"
      ]
     },
     "execution_count": 84,
     "metadata": {},
     "output_type": "execute_result"
    }
   ],
   "source": [
    "data[data['지질혈증_단일'] == 1]['지질혈증_단일'].value_counts()"
   ]
  },
  {
   "cell_type": "code",
   "execution_count": 73,
   "metadata": {
    "collapsed": true
   },
   "outputs": [
    {
     "data": {
      "text/plain": [
       "Index(['가입자일련번호', '성별코드', '연령대코드(5세단위)', '시도코드', '신장(5Cm단위)', '체중(5Kg단위)',\n",
       "       '허리둘레', '시력(좌)', '시력(우)', '청력(좌)', '청력(우)', '수축기혈압', '이완기혈압',\n",
       "       '식전혈당(공복혈당)', '총콜레스테롤', '트리글리세라이드', 'HDL콜레스테롤', 'LDL콜레스테롤', '혈색소',\n",
       "       '요단백', '혈청크레아티닌', '(혈청지오티)AST', '(혈청지오티)ALT', '감마지티피', '흡연상태',\n",
       "       '구강검진 수검여부', '당뇨병 의사 판정', '고혈압 의사 판정', '간기능 이상여부', '알콜성간염여부',\n",
       "       '지질혈증 의사 판정', '당뇨병_단일', '고혈압_단일', '지질혈증_단일', '합병증_(당뇨_고혈압)',\n",
       "       '합병증_(지질_고혈압)', '합병증_(당뇨_지질)', '합병증 종합'],\n",
       "      dtype='object')"
      ]
     },
     "execution_count": 73,
     "metadata": {},
     "output_type": "execute_result"
    }
   ],
   "source": [
    "data.columns"
   ]
  },
  {
   "cell_type": "code",
   "execution_count": 36,
   "metadata": {},
   "outputs": [],
   "source": [
    "msk = ((data['당뇨병 의사 판정'] == 0) & (data['고혈압 의사 판정'] == 0) & (data['지질혈증 의사 판정'] == 0))"
   ]
  },
  {
   "cell_type": "code",
   "execution_count": 37,
   "metadata": {},
   "outputs": [
    {
     "name": "stdout",
     "output_type": "stream",
     "text": [
      "622707\n",
      "303017\n"
     ]
    }
   ],
   "source": [
    "print(len(data[msk]))\n",
    "print(len(data[~msk]))"
   ]
  },
  {
   "cell_type": "code",
   "execution_count": 71,
   "metadata": {},
   "outputs": [
    {
     "data": {
      "image/png": "[encoded data removed]",
      "text/plain": [
       "<Figure size 432x288 with 1 Axes>"
      ]
     },
     "metadata": {
      "image/png": {
       "height": 248,
       "width": 235
      }
     },
     "output_type": "display_data"
    },
    {
     "data": {
      "text/plain": [
       "<Figure size 504x504 with 0 Axes>"
      ]
     },
     "metadata": {},
     "output_type": "display_data"
    }
   ],
   "source": [
    "import matplotlib.pyplot as plot\n",
    "\n",
    "values = [len(data[msk]),len(data[~msk])]\n",
    "colors = ['c','r']\n",
    "labels = ['No Diseases','Have Diseases']\n",
    "explode = (0.2,0)\n",
    "plt.pie(values, colors=colors, labels= values,explode=explode,autopct='%1.1f%%', shadow=True)\n",
    "plt.title('Diseases')\n",
    "plt.legend(labels,loc=3)\n",
    "plt.show()"
   ]
  },
  {
   "cell_type": "markdown",
   "metadata": {},
   "source": [
    "## =========ETC========="
   ]
  },
  {
   "cell_type": "code",
   "execution_count": 31,
   "metadata": {},
   "outputs": [],
   "source": [
    "# from sklearn.model_selection import train_test_split\n",
    "\n",
    "# data_y = data[\"합병증_(당뇨_고혈압)\"]\n",
    "# data_x = data.drop([\"합병증_(당뇨_고혈압)\",'합병증 종합','합병증_(당뇨_지질)','합병증_(지질_고혈압)','지질혈증_단일','당뇨병_단일'],axis=1,inplace = False)\n",
    "\n",
    "# data_train_x,data_test_x,data_train_y,data_test_y = train_test_split(data_x,data_y,test_size = 0.3,random_state = 1234)\n",
    "\n",
    "# print(\"train data X size : {}\".format(data_train_x.shape))\n",
    "# print(\"train data Y size : {}\".format(data_train_y.shape))\n",
    "# print(\"test data X size : {}\".format(data_test_x.shape))\n",
    "# print(\"test data Y size : {}\".format(data_test_y.shape))"
   ]
  },
  {
   "cell_type": "code",
   "execution_count": 32,
   "metadata": {},
   "outputs": [],
   "source": [
    "# from sklearn.ensemble import RandomForestClassifier\n",
    "\n",
    "# tree_uncustomized = RandomForestClassifier(random_state=1234)\n",
    "# tree_uncustomized.fit(data_train_x, data_train_y)\n",
    "\n",
    "# print(\"Accuracy on training set : {:.3f}\".format(tree_uncustomized.score(data_train_x,data_train_y)))\n",
    "# print(\"Accuracy on test set : {:.3f}\".format(tree_uncustomized.score(data_test_x,data_test_y)))"
   ]
  },
  {
   "cell_type": "code",
   "execution_count": 33,
   "metadata": {},
   "outputs": [],
   "source": [
    "# answer = tree_uncustomized.predict_proba(data_test_x)\n",
    "# answer"
   ]
  },
  {
   "cell_type": "code",
   "execution_count": 34,
   "metadata": {},
   "outputs": [],
   "source": [
    "# data_test_y.value_counts()"
   ]
  },
  {
   "cell_type": "code",
   "execution_count": 35,
   "metadata": {},
   "outputs": [],
   "source": [
    "# from sklearn.metrics import f1_score\n",
    "# y_pred = tree_uncustomized.predict(data_test_x)\n",
    "# f1_score(y_pred, data_test_y)"
   ]
  },
  {
   "cell_type": "code",
   "execution_count": null,
   "metadata": {},
   "outputs": [],
   "source": [
    "\n"
   ]
  }
 ],
 "metadata": {
  "kernelspec": {
   "display_name": "Python 3",
   "language": "python",
   "name": "python3"
  },
  "language_info": {
   "codemirror_mode": {
    "name": "ipython",
    "version": 3
   },
   "file_extension": ".py",
   "mimetype": "text/x-python",
   "name": "python",
   "nbconvert_exporter": "python",
   "pygments_lexer": "ipython3",
   "version": "3.5.6"
  }
 },
 "nbformat": 4,
 "nbformat_minor": 2
}
