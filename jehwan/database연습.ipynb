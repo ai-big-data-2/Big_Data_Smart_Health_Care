{
 "cells": [
  {
   "cell_type": "code",
   "execution_count": 2,
   "metadata": {},
   "outputs": [],
   "source": [
    "import pandas as pd"
   ]
  },
  {
   "cell_type": "code",
   "execution_count": 3,
   "metadata": {},
   "outputs": [],
   "source": [
    "import sqlite3"
   ]
  },
  {
   "cell_type": "code",
   "execution_count": 4,
   "metadata": {},
   "outputs": [],
   "source": [
    "connection = sqlite3.connect('../test/DB - Test.db')"
   ]
  },
  {
   "cell_type": "code",
   "execution_count": 9,
   "metadata": {},
   "outputs": [],
   "source": [
    "query = \"SELECT * FROM sqlite_master;\"\n",
    "\n",
    "query2 = \"select * from sqlite_master;\""
   ]
  },
  {
   "cell_type": "code",
   "execution_count": 11,
   "metadata": {},
   "outputs": [
    {
     "data": {
      "text/plain": [
       "0    CREATE TABLE \"order\" (\\n\"timestamp\" TEXT,\\n  \"...\n",
       "1    CREATE TABLE \"good\" (\\n\"goods_id\" INTEGER,\\n  ...\n",
       "2    CREATE TABLE \"shop\" (\\n\"shop_id\" INTEGER,\\n  \"...\n",
       "3    CREATE TABLE \"log\" (\\n\"timestamp\" TEXT,\\n  \"us...\n",
       "4    CREATE TABLE \"user\" (\\n\"user_id\" TEXT,\\n  \"os\"...\n",
       "Name: sql, dtype: object"
      ]
     },
     "execution_count": 11,
     "metadata": {},
     "output_type": "execute_result"
    }
   ],
   "source": [
    "pd.read_sql_query(query, connection)['sql']"
   ]
  },
  {
   "cell_type": "code",
   "execution_count": 18,
   "metadata": {},
   "outputs": [
    {
     "data": {
      "text/html": [
       "<div>\n",
       "<style scoped>\n",
       "    .dataframe tbody tr th:only-of-type {\n",
       "        vertical-align: middle;\n",
       "    }\n",
       "\n",
       "    .dataframe tbody tr th {\n",
       "        vertical-align: top;\n",
       "    }\n",
       "\n",
       "    .dataframe thead th {\n",
       "        text-align: right;\n",
       "    }\n",
       "</style>\n",
       "<table border=\"1\" class=\"dataframe\">\n",
       "  <thead>\n",
       "    <tr style=\"text-align: right;\">\n",
       "      <th></th>\n",
       "      <th>user_id</th>\n",
       "      <th>os</th>\n",
       "      <th>age</th>\n",
       "    </tr>\n",
       "  </thead>\n",
       "  <tbody>\n",
       "    <tr>\n",
       "      <th>0</th>\n",
       "      <td>--PYPMX8QWg0ioT5zfORmU-S5Lln0lot</td>\n",
       "      <td>And</td>\n",
       "      <td>41</td>\n",
       "    </tr>\n",
       "    <tr>\n",
       "      <th>1</th>\n",
       "      <td>-16-xXbeDcvkZJtTpRwMi57Yo2ZQpORv</td>\n",
       "      <td>iOS</td>\n",
       "      <td>31</td>\n",
       "    </tr>\n",
       "    <tr>\n",
       "      <th>2</th>\n",
       "      <td>-1de9sT-MLwVVvnC0ncCLnqEqpSi3XSN</td>\n",
       "      <td>iOS</td>\n",
       "      <td>16</td>\n",
       "    </tr>\n",
       "    <tr>\n",
       "      <th>3</th>\n",
       "      <td>-3A3L2jnM55B_Q1bRXMjZ6sPnINIj-Y1</td>\n",
       "      <td>And</td>\n",
       "      <td>41</td>\n",
       "    </tr>\n",
       "    <tr>\n",
       "      <th>4</th>\n",
       "      <td>-3bhcSgPOIdQAPkPNcchxvECGqGQQ78k</td>\n",
       "      <td>And</td>\n",
       "      <td>42</td>\n",
       "    </tr>\n",
       "  </tbody>\n",
       "</table>\n",
       "</div>"
      ],
      "text/plain": [
       "                            user_id   os  age\n",
       "0  --PYPMX8QWg0ioT5zfORmU-S5Lln0lot  And   41\n",
       "1  -16-xXbeDcvkZJtTpRwMi57Yo2ZQpORv  iOS   31\n",
       "2  -1de9sT-MLwVVvnC0ncCLnqEqpSi3XSN  iOS   16\n",
       "3  -3A3L2jnM55B_Q1bRXMjZ6sPnINIj-Y1  And   41\n",
       "4  -3bhcSgPOIdQAPkPNcchxvECGqGQQ78k  And   42"
      ]
     },
     "execution_count": 18,
     "metadata": {},
     "output_type": "execute_result"
    }
   ],
   "source": [
    "query = \"select * from 'user'\"\n",
    "user = pd.read_sql(query, connection)\n",
    "user.head()"
   ]
  },
  {
   "cell_type": "code",
   "execution_count": 16,
   "metadata": {},
   "outputs": [],
   "source": [
    "query = \"select * from 'log'\"\n",
    "log = pd.read_sql(query, connection)"
   ]
  },
  {
   "cell_type": "code",
   "execution_count": 19,
   "metadata": {},
   "outputs": [
    {
     "data": {
      "text/html": [
       "<div>\n",
       "<style scoped>\n",
       "    .dataframe tbody tr th:only-of-type {\n",
       "        vertical-align: middle;\n",
       "    }\n",
       "\n",
       "    .dataframe tbody tr th {\n",
       "        vertical-align: top;\n",
       "    }\n",
       "\n",
       "    .dataframe thead th {\n",
       "        text-align: right;\n",
       "    }\n",
       "</style>\n",
       "<table border=\"1\" class=\"dataframe\">\n",
       "  <thead>\n",
       "    <tr style=\"text-align: right;\">\n",
       "      <th></th>\n",
       "      <th>user_id</th>\n",
       "      <th>os</th>\n",
       "      <th>age</th>\n",
       "      <th>timestamp</th>\n",
       "      <th>event_origin</th>\n",
       "      <th>event_name</th>\n",
       "      <th>event_goods_id</th>\n",
       "      <th>event_shop_id</th>\n",
       "    </tr>\n",
       "  </thead>\n",
       "  <tbody>\n",
       "    <tr>\n",
       "      <th>0</th>\n",
       "      <td>--PYPMX8QWg0ioT5zfORmU-S5Lln0lot</td>\n",
       "      <td>And</td>\n",
       "      <td>41</td>\n",
       "      <td>2018-06-11 15:57:10.615</td>\n",
       "      <td>shops_bookmark</td>\n",
       "      <td>app_page_view</td>\n",
       "      <td>NaN</td>\n",
       "      <td>NaN</td>\n",
       "    </tr>\n",
       "    <tr>\n",
       "      <th>1</th>\n",
       "      <td>--PYPMX8QWg0ioT5zfORmU-S5Lln0lot</td>\n",
       "      <td>And</td>\n",
       "      <td>41</td>\n",
       "      <td>2018-06-11 15:59:05.505</td>\n",
       "      <td>shops_bookmark</td>\n",
       "      <td>app_page_view</td>\n",
       "      <td>NaN</td>\n",
       "      <td>NaN</td>\n",
       "    </tr>\n",
       "    <tr>\n",
       "      <th>2</th>\n",
       "      <td>-16-xXbeDcvkZJtTpRwMi57Yo2ZQpORv</td>\n",
       "      <td>iOS</td>\n",
       "      <td>31</td>\n",
       "      <td>2018-06-11 00:55:37.309</td>\n",
       "      <td>my_goods</td>\n",
       "      <td>app_page_view</td>\n",
       "      <td>NaN</td>\n",
       "      <td>NaN</td>\n",
       "    </tr>\n",
       "    <tr>\n",
       "      <th>3</th>\n",
       "      <td>-16-xXbeDcvkZJtTpRwMi57Yo2ZQpORv</td>\n",
       "      <td>iOS</td>\n",
       "      <td>31</td>\n",
       "      <td>2018-06-11 00:55:44.430</td>\n",
       "      <td>my_goods</td>\n",
       "      <td>enter_browser</td>\n",
       "      <td>2506.0</td>\n",
       "      <td>40.0</td>\n",
       "    </tr>\n",
       "    <tr>\n",
       "      <th>4</th>\n",
       "      <td>-16-xXbeDcvkZJtTpRwMi57Yo2ZQpORv</td>\n",
       "      <td>iOS</td>\n",
       "      <td>31</td>\n",
       "      <td>2018-06-11 01:00:33.295</td>\n",
       "      <td>my_goods</td>\n",
       "      <td>app_page_view</td>\n",
       "      <td>NaN</td>\n",
       "      <td>NaN</td>\n",
       "    </tr>\n",
       "  </tbody>\n",
       "</table>\n",
       "</div>"
      ],
      "text/plain": [
       "                            user_id   os  age                timestamp  \\\n",
       "0  --PYPMX8QWg0ioT5zfORmU-S5Lln0lot  And   41  2018-06-11 15:57:10.615   \n",
       "1  --PYPMX8QWg0ioT5zfORmU-S5Lln0lot  And   41  2018-06-11 15:59:05.505   \n",
       "2  -16-xXbeDcvkZJtTpRwMi57Yo2ZQpORv  iOS   31  2018-06-11 00:55:37.309   \n",
       "3  -16-xXbeDcvkZJtTpRwMi57Yo2ZQpORv  iOS   31  2018-06-11 00:55:44.430   \n",
       "4  -16-xXbeDcvkZJtTpRwMi57Yo2ZQpORv  iOS   31  2018-06-11 01:00:33.295   \n",
       "\n",
       "     event_origin     event_name  event_goods_id  event_shop_id  \n",
       "0  shops_bookmark  app_page_view             NaN            NaN  \n",
       "1  shops_bookmark  app_page_view             NaN            NaN  \n",
       "2        my_goods  app_page_view             NaN            NaN  \n",
       "3        my_goods  enter_browser          2506.0           40.0  \n",
       "4        my_goods  app_page_view             NaN            NaN  "
      ]
     },
     "execution_count": 19,
     "metadata": {},
     "output_type": "execute_result"
    }
   ],
   "source": [
    "pd.merge(user,log).head()"
   ]
  },
  {
   "cell_type": "code",
   "execution_count": 20,
   "metadata": {},
   "outputs": [
    {
     "data": {
      "text/plain": [
       "(105815, 8)"
      ]
     },
     "execution_count": 20,
     "metadata": {},
     "output_type": "execute_result"
    }
   ],
   "source": [
    "t1 = pd.merge(user,log)\n",
    "t1.shape"
   ]
  },
  {
   "cell_type": "code",
   "execution_count": 22,
   "metadata": {},
   "outputs": [
    {
     "data": {
      "text/plain": [
       "(105906, 8)"
      ]
     },
     "execution_count": 22,
     "metadata": {},
     "output_type": "execute_result"
    }
   ],
   "source": [
    "t2 = pd.merge(user, log, how = 'outer')\n",
    "t2.shape"
   ]
  },
  {
   "cell_type": "code",
   "execution_count": 23,
   "metadata": {},
   "outputs": [
    {
     "data": {
      "text/plain": [
       "(105906, 8)"
      ]
     },
     "execution_count": 23,
     "metadata": {},
     "output_type": "execute_result"
    }
   ],
   "source": [
    "t3 = pd.merge(user, log, how = 'left')\n",
    "t3.shape"
   ]
  },
  {
   "cell_type": "code",
   "execution_count": 24,
   "metadata": {},
   "outputs": [
    {
     "data": {
      "text/plain": [
       "(105815, 8)"
      ]
     },
     "execution_count": 24,
     "metadata": {},
     "output_type": "execute_result"
    }
   ],
   "source": [
    "t4 = pd.merge(user, log , how = 'right')\n",
    "t4.shape"
   ]
  },
  {
   "cell_type": "code",
   "execution_count": null,
   "metadata": {},
   "outputs": [],
   "source": []
  },
  {
   "cell_type": "code",
   "execution_count": null,
   "metadata": {},
   "outputs": [],
   "source": []
  }
 ],
 "metadata": {
  "kernelspec": {
   "display_name": "Python 3",
   "language": "python",
   "name": "python3"
  },
  "language_info": {
   "codemirror_mode": {
    "name": "ipython",
    "version": 3
   },
   "file_extension": ".py",
   "mimetype": "text/x-python",
   "name": "python",
   "nbconvert_exporter": "python",
   "pygments_lexer": "ipython3",
   "version": "3.6.8"
  }
 },
 "nbformat": 4,
 "nbformat_minor": 2
}
