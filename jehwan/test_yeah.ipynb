{
 "cells": [
  {
   "cell_type": "code",
   "execution_count": 2,
   "metadata": {},
   "outputs": [],
   "source": [
    "import pandas as pd\n",
    "import matplotlib.pyplot as plt # 그래프 출력시\n",
    "import matplotlib as mpl #그래프 옵션\n",
    "import seaborn as sns\n",
    "# 그래프 시각화 옵션\n",
    "%matplotlib inline\n",
    "\n",
    "#그래프 한글설정\n",
    "mpl.rc('font', family = 'NanumBarunGothic')\n",
    "#선명\n",
    "from IPython.display import set_matplotlib_formats\n",
    "set_matplotlib_formats('retina')\n",
    "\n",
    "# 그래프에서 음수값이 나올때, 깨지는 현상 방지\n",
    "mpl.rc('axes', unicode_minus = False)\n",
    "\n",
    "pd.options.display.max_columns = 100"
   ]
  },
  {
   "cell_type": "code",
   "execution_count": 32,
   "metadata": {},
   "outputs": [],
   "source": [
    "from tkinter.filedialog import askopenfilename\n",
    "import tkinter\n",
    "import os\n",
    "import warnings\n",
    "warnings.filterwarnings('ignore')\n",
    "tk_window = tkinter.Tk()\n",
    "cwd = os.getcwd()\n",
    "\n",
    "table1 = pd.read_csv(askopenfilename(title='Choose your training data'))\n",
    "\n",
    "\n",
    "tk_window.destroy()"
   ]
  },
  {
   "cell_type": "code",
   "execution_count": 4,
   "metadata": {},
   "outputs": [
    {
     "data": {
      "text/plain": [
       "Index(['Name', 'date', 'amount', 'product', 'result'], dtype='object')"
      ]
     },
     "execution_count": 4,
     "metadata": {},
     "output_type": "execute_result"
    }
   ],
   "source": [
    "table1.columns"
   ]
  },
  {
   "cell_type": "code",
   "execution_count": 5,
   "metadata": {},
   "outputs": [
    {
     "data": {
      "text/plain": [
       "RangeIndex(start=0, stop=8, step=1)"
      ]
     },
     "execution_count": 5,
     "metadata": {},
     "output_type": "execute_result"
    }
   ],
   "source": [
    "table1.index"
   ]
  },
  {
   "cell_type": "code",
   "execution_count": 6,
   "metadata": {},
   "outputs": [
    {
     "data": {
      "text/plain": [
       "array([['Kang', '2017-01-01', 500, 'apple', 'confirmed'],\n",
       "       ['Kim', '2017-01-03', 700, 'banana', 'confirmed'],\n",
       "       ['Choi', '2017-01-05', 800, 'apple', 'confirmed'],\n",
       "       ['Park', '2017-01-07', 500, 'cereal', 'canceled'],\n",
       "       ['Kang', '2017-01-08', 1200, 'kiwi', 'confirmed'],\n",
       "       ['Choi', '2017-01-09', 100, 'melon', 'confirmed'],\n",
       "       ['Lee', '2017-01-09', 700, 'banana', 'confirmed'],\n",
       "       ['Yoon', '2017-01-10', 200, 'cereal', 'canceled']], dtype=object)"
      ]
     },
     "execution_count": 6,
     "metadata": {},
     "output_type": "execute_result"
    }
   ],
   "source": [
    "table1.values"
   ]
  },
  {
   "cell_type": "code",
   "execution_count": 7,
   "metadata": {},
   "outputs": [
    {
     "name": "stdout",
     "output_type": "stream",
     "text": [
      "(8, 2)\n"
     ]
    },
    {
     "data": {
      "text/html": [
       "<div>\n",
       "<style scoped>\n",
       "    .dataframe tbody tr th:only-of-type {\n",
       "        vertical-align: middle;\n",
       "    }\n",
       "\n",
       "    .dataframe tbody tr th {\n",
       "        vertical-align: top;\n",
       "    }\n",
       "\n",
       "    .dataframe thead th {\n",
       "        text-align: right;\n",
       "    }\n",
       "</style>\n",
       "<table border=\"1\" class=\"dataframe\">\n",
       "  <thead>\n",
       "    <tr style=\"text-align: right;\">\n",
       "      <th></th>\n",
       "      <th>Name</th>\n",
       "      <th>date</th>\n",
       "    </tr>\n",
       "  </thead>\n",
       "  <tbody>\n",
       "    <tr>\n",
       "      <th>0</th>\n",
       "      <td>Kang</td>\n",
       "      <td>2017-01-01</td>\n",
       "    </tr>\n",
       "    <tr>\n",
       "      <th>1</th>\n",
       "      <td>Kim</td>\n",
       "      <td>2017-01-03</td>\n",
       "    </tr>\n",
       "    <tr>\n",
       "      <th>2</th>\n",
       "      <td>Choi</td>\n",
       "      <td>2017-01-05</td>\n",
       "    </tr>\n",
       "    <tr>\n",
       "      <th>3</th>\n",
       "      <td>Park</td>\n",
       "      <td>2017-01-07</td>\n",
       "    </tr>\n",
       "    <tr>\n",
       "      <th>4</th>\n",
       "      <td>Kang</td>\n",
       "      <td>2017-01-08</td>\n",
       "    </tr>\n",
       "    <tr>\n",
       "      <th>5</th>\n",
       "      <td>Choi</td>\n",
       "      <td>2017-01-09</td>\n",
       "    </tr>\n",
       "    <tr>\n",
       "      <th>6</th>\n",
       "      <td>Lee</td>\n",
       "      <td>2017-01-09</td>\n",
       "    </tr>\n",
       "    <tr>\n",
       "      <th>7</th>\n",
       "      <td>Yoon</td>\n",
       "      <td>2017-01-10</td>\n",
       "    </tr>\n",
       "  </tbody>\n",
       "</table>\n",
       "</div>"
      ],
      "text/plain": [
       "   Name        date\n",
       "0  Kang  2017-01-01\n",
       "1   Kim  2017-01-03\n",
       "2  Choi  2017-01-05\n",
       "3  Park  2017-01-07\n",
       "4  Kang  2017-01-08\n",
       "5  Choi  2017-01-09\n",
       "6   Lee  2017-01-09\n",
       "7  Yoon  2017-01-10"
      ]
     },
     "execution_count": 7,
     "metadata": {},
     "output_type": "execute_result"
    }
   ],
   "source": [
    "a = table1[['Name', 'date']]\n",
    "print(a.shape)\n",
    "a"
   ]
  },
  {
   "cell_type": "code",
   "execution_count": 8,
   "metadata": {},
   "outputs": [
    {
     "data": {
      "text/html": [
       "<div>\n",
       "<style scoped>\n",
       "    .dataframe tbody tr th:only-of-type {\n",
       "        vertical-align: middle;\n",
       "    }\n",
       "\n",
       "    .dataframe tbody tr th {\n",
       "        vertical-align: top;\n",
       "    }\n",
       "\n",
       "    .dataframe thead th {\n",
       "        text-align: right;\n",
       "    }\n",
       "</style>\n",
       "<table border=\"1\" class=\"dataframe\">\n",
       "  <thead>\n",
       "    <tr style=\"text-align: right;\">\n",
       "      <th></th>\n",
       "      <th>Name</th>\n",
       "      <th>date</th>\n",
       "      <th>amount</th>\n",
       "      <th>product</th>\n",
       "      <th>result</th>\n",
       "    </tr>\n",
       "  </thead>\n",
       "  <tbody>\n",
       "    <tr>\n",
       "      <th>0</th>\n",
       "      <td>Kang</td>\n",
       "      <td>2017-01-01</td>\n",
       "      <td>500</td>\n",
       "      <td>apple</td>\n",
       "      <td>confirmed</td>\n",
       "    </tr>\n",
       "    <tr>\n",
       "      <th>1</th>\n",
       "      <td>Kim</td>\n",
       "      <td>2017-01-03</td>\n",
       "      <td>700</td>\n",
       "      <td>banana</td>\n",
       "      <td>confirmed</td>\n",
       "    </tr>\n",
       "    <tr>\n",
       "      <th>2</th>\n",
       "      <td>Choi</td>\n",
       "      <td>2017-01-05</td>\n",
       "      <td>800</td>\n",
       "      <td>apple</td>\n",
       "      <td>confirmed</td>\n",
       "    </tr>\n",
       "    <tr>\n",
       "      <th>3</th>\n",
       "      <td>Park</td>\n",
       "      <td>2017-01-07</td>\n",
       "      <td>500</td>\n",
       "      <td>cereal</td>\n",
       "      <td>canceled</td>\n",
       "    </tr>\n",
       "    <tr>\n",
       "      <th>4</th>\n",
       "      <td>Kang</td>\n",
       "      <td>2017-01-08</td>\n",
       "      <td>1200</td>\n",
       "      <td>kiwi</td>\n",
       "      <td>confirmed</td>\n",
       "    </tr>\n",
       "    <tr>\n",
       "      <th>5</th>\n",
       "      <td>Choi</td>\n",
       "      <td>2017-01-09</td>\n",
       "      <td>100</td>\n",
       "      <td>melon</td>\n",
       "      <td>confirmed</td>\n",
       "    </tr>\n",
       "    <tr>\n",
       "      <th>6</th>\n",
       "      <td>Lee</td>\n",
       "      <td>2017-01-09</td>\n",
       "      <td>700</td>\n",
       "      <td>banana</td>\n",
       "      <td>confirmed</td>\n",
       "    </tr>\n",
       "    <tr>\n",
       "      <th>7</th>\n",
       "      <td>Yoon</td>\n",
       "      <td>2017-01-10</td>\n",
       "      <td>200</td>\n",
       "      <td>cereal</td>\n",
       "      <td>canceled</td>\n",
       "    </tr>\n",
       "  </tbody>\n",
       "</table>\n",
       "</div>"
      ],
      "text/plain": [
       "   Name        date  amount product     result\n",
       "0  Kang  2017-01-01     500   apple  confirmed\n",
       "1   Kim  2017-01-03     700  banana  confirmed\n",
       "2  Choi  2017-01-05     800   apple  confirmed\n",
       "3  Park  2017-01-07     500  cereal   canceled\n",
       "4  Kang  2017-01-08    1200    kiwi  confirmed\n",
       "5  Choi  2017-01-09     100   melon  confirmed\n",
       "6   Lee  2017-01-09     700  banana  confirmed\n",
       "7  Yoon  2017-01-10     200  cereal   canceled"
      ]
     },
     "execution_count": 8,
     "metadata": {},
     "output_type": "execute_result"
    }
   ],
   "source": [
    "table1"
   ]
  },
  {
   "cell_type": "code",
   "execution_count": 9,
   "metadata": {},
   "outputs": [
    {
     "data": {
      "text/plain": [
       "count       8.000000\n",
       "mean      587.500000\n",
       "std       348.209707\n",
       "min       100.000000\n",
       "25%       425.000000\n",
       "50%       600.000000\n",
       "75%       725.000000\n",
       "max      1200.000000\n",
       "Name: amount, dtype: float64"
      ]
     },
     "execution_count": 9,
     "metadata": {},
     "output_type": "execute_result"
    }
   ],
   "source": [
    "table1['amount'].describe()"
   ]
  },
  {
   "cell_type": "code",
   "execution_count": 10,
   "metadata": {},
   "outputs": [
    {
     "data": {
      "text/plain": [
       "1171.9999999999998"
      ]
     },
     "execution_count": 10,
     "metadata": {},
     "output_type": "execute_result"
    }
   ],
   "source": [
    "table1['amount'].quantile(0.99)"
   ]
  },
  {
   "cell_type": "code",
   "execution_count": 11,
   "metadata": {},
   "outputs": [
    {
     "data": {
      "text/plain": [
       "5     100\n",
       "7     200\n",
       "0     500\n",
       "3     500\n",
       "1     700\n",
       "6     700\n",
       "2     800\n",
       "4    1200\n",
       "Name: amount, dtype: int64"
      ]
     },
     "execution_count": 11,
     "metadata": {},
     "output_type": "execute_result"
    }
   ],
   "source": [
    "table1['amount'].sort_values()"
   ]
  },
  {
   "cell_type": "code",
   "execution_count": 12,
   "metadata": {},
   "outputs": [
    {
     "data": {
      "text/html": [
       "<div>\n",
       "<style scoped>\n",
       "    .dataframe tbody tr th:only-of-type {\n",
       "        vertical-align: middle;\n",
       "    }\n",
       "\n",
       "    .dataframe tbody tr th {\n",
       "        vertical-align: top;\n",
       "    }\n",
       "\n",
       "    .dataframe thead th {\n",
       "        text-align: right;\n",
       "    }\n",
       "</style>\n",
       "<table border=\"1\" class=\"dataframe\">\n",
       "  <thead>\n",
       "    <tr style=\"text-align: right;\">\n",
       "      <th></th>\n",
       "      <th>Name</th>\n",
       "      <th>date</th>\n",
       "      <th>amount</th>\n",
       "      <th>product</th>\n",
       "      <th>result</th>\n",
       "    </tr>\n",
       "  </thead>\n",
       "  <tbody>\n",
       "    <tr>\n",
       "      <th>4</th>\n",
       "      <td>Kang</td>\n",
       "      <td>2017-01-08</td>\n",
       "      <td>1200</td>\n",
       "      <td>kiwi</td>\n",
       "      <td>confirmed</td>\n",
       "    </tr>\n",
       "    <tr>\n",
       "      <th>2</th>\n",
       "      <td>Choi</td>\n",
       "      <td>2017-01-05</td>\n",
       "      <td>800</td>\n",
       "      <td>apple</td>\n",
       "      <td>confirmed</td>\n",
       "    </tr>\n",
       "    <tr>\n",
       "      <th>1</th>\n",
       "      <td>Kim</td>\n",
       "      <td>2017-01-03</td>\n",
       "      <td>700</td>\n",
       "      <td>banana</td>\n",
       "      <td>confirmed</td>\n",
       "    </tr>\n",
       "    <tr>\n",
       "      <th>6</th>\n",
       "      <td>Lee</td>\n",
       "      <td>2017-01-09</td>\n",
       "      <td>700</td>\n",
       "      <td>banana</td>\n",
       "      <td>confirmed</td>\n",
       "    </tr>\n",
       "    <tr>\n",
       "      <th>0</th>\n",
       "      <td>Kang</td>\n",
       "      <td>2017-01-01</td>\n",
       "      <td>500</td>\n",
       "      <td>apple</td>\n",
       "      <td>confirmed</td>\n",
       "    </tr>\n",
       "    <tr>\n",
       "      <th>3</th>\n",
       "      <td>Park</td>\n",
       "      <td>2017-01-07</td>\n",
       "      <td>500</td>\n",
       "      <td>cereal</td>\n",
       "      <td>canceled</td>\n",
       "    </tr>\n",
       "    <tr>\n",
       "      <th>7</th>\n",
       "      <td>Yoon</td>\n",
       "      <td>2017-01-10</td>\n",
       "      <td>200</td>\n",
       "      <td>cereal</td>\n",
       "      <td>canceled</td>\n",
       "    </tr>\n",
       "    <tr>\n",
       "      <th>5</th>\n",
       "      <td>Choi</td>\n",
       "      <td>2017-01-09</td>\n",
       "      <td>100</td>\n",
       "      <td>melon</td>\n",
       "      <td>confirmed</td>\n",
       "    </tr>\n",
       "  </tbody>\n",
       "</table>\n",
       "</div>"
      ],
      "text/plain": [
       "   Name        date  amount product     result\n",
       "4  Kang  2017-01-08    1200    kiwi  confirmed\n",
       "2  Choi  2017-01-05     800   apple  confirmed\n",
       "1   Kim  2017-01-03     700  banana  confirmed\n",
       "6   Lee  2017-01-09     700  banana  confirmed\n",
       "0  Kang  2017-01-01     500   apple  confirmed\n",
       "3  Park  2017-01-07     500  cereal   canceled\n",
       "7  Yoon  2017-01-10     200  cereal   canceled\n",
       "5  Choi  2017-01-09     100   melon  confirmed"
      ]
     },
     "execution_count": 12,
     "metadata": {},
     "output_type": "execute_result"
    }
   ],
   "source": [
    "table1.sort_values(by='amount', ascending=False)"
   ]
  },
  {
   "cell_type": "code",
   "execution_count": 13,
   "metadata": {},
   "outputs": [
    {
     "data": {
      "text/plain": [
       "array(['apple', 'banana', 'cereal', 'kiwi', 'melon'], dtype=object)"
      ]
     },
     "execution_count": 13,
     "metadata": {},
     "output_type": "execute_result"
    }
   ],
   "source": [
    "table1['product'].unique()"
   ]
  },
  {
   "cell_type": "code",
   "execution_count": 14,
   "metadata": {},
   "outputs": [
    {
     "data": {
      "text/plain": [
       "banana    2\n",
       "apple     2\n",
       "cereal    2\n",
       "kiwi      1\n",
       "melon     1\n",
       "Name: product, dtype: int64"
      ]
     },
     "execution_count": 14,
     "metadata": {},
     "output_type": "execute_result"
    }
   ],
   "source": [
    "table1['product'].value_counts()"
   ]
  },
  {
   "cell_type": "code",
   "execution_count": 15,
   "metadata": {},
   "outputs": [
    {
     "data": {
      "text/html": [
       "<div>\n",
       "<style scoped>\n",
       "    .dataframe tbody tr th:only-of-type {\n",
       "        vertical-align: middle;\n",
       "    }\n",
       "\n",
       "    .dataframe tbody tr th {\n",
       "        vertical-align: top;\n",
       "    }\n",
       "\n",
       "    .dataframe thead th {\n",
       "        text-align: right;\n",
       "    }\n",
       "</style>\n",
       "<table border=\"1\" class=\"dataframe\">\n",
       "  <thead>\n",
       "    <tr style=\"text-align: right;\">\n",
       "      <th></th>\n",
       "      <th>Name</th>\n",
       "      <th>date</th>\n",
       "      <th>amount</th>\n",
       "      <th>product</th>\n",
       "      <th>result</th>\n",
       "    </tr>\n",
       "  </thead>\n",
       "  <tbody>\n",
       "    <tr>\n",
       "      <th>1</th>\n",
       "      <td>Kim</td>\n",
       "      <td>2017-01-03</td>\n",
       "      <td>700</td>\n",
       "      <td>banana</td>\n",
       "      <td>confirmed</td>\n",
       "    </tr>\n",
       "    <tr>\n",
       "      <th>2</th>\n",
       "      <td>Choi</td>\n",
       "      <td>2017-01-05</td>\n",
       "      <td>800</td>\n",
       "      <td>apple</td>\n",
       "      <td>confirmed</td>\n",
       "    </tr>\n",
       "    <tr>\n",
       "      <th>4</th>\n",
       "      <td>Kang</td>\n",
       "      <td>2017-01-08</td>\n",
       "      <td>1200</td>\n",
       "      <td>kiwi</td>\n",
       "      <td>confirmed</td>\n",
       "    </tr>\n",
       "    <tr>\n",
       "      <th>6</th>\n",
       "      <td>Lee</td>\n",
       "      <td>2017-01-09</td>\n",
       "      <td>700</td>\n",
       "      <td>banana</td>\n",
       "      <td>confirmed</td>\n",
       "    </tr>\n",
       "  </tbody>\n",
       "</table>\n",
       "</div>"
      ],
      "text/plain": [
       "   Name        date  amount product     result\n",
       "1   Kim  2017-01-03     700  banana  confirmed\n",
       "2  Choi  2017-01-05     800   apple  confirmed\n",
       "4  Kang  2017-01-08    1200    kiwi  confirmed\n",
       "6   Lee  2017-01-09     700  banana  confirmed"
      ]
     },
     "execution_count": 15,
     "metadata": {},
     "output_type": "execute_result"
    }
   ],
   "source": [
    "table1[table1['amount'] > 500]"
   ]
  },
  {
   "cell_type": "markdown",
   "metadata": {},
   "source": [
    "### dist 정보"
   ]
  },
  {
   "cell_type": "code",
   "execution_count": 16,
   "metadata": {},
   "outputs": [
    {
     "data": {
      "image/png": "[encoded data removed]",
      "text/plain": [
       "<Figure size 432x288 with 1 Axes>"
      ]
     },
     "metadata": {
      "image/png": {
       "height": 266,
       "width": 397
      },
      "needs_background": "light"
     },
     "output_type": "display_data"
    }
   ],
   "source": [
    "sns.distplot(table1['amount']);"
   ]
  },
  {
   "cell_type": "markdown",
   "metadata": {},
   "source": [
    "### 물품정보"
   ]
  },
  {
   "cell_type": "code",
   "execution_count": 17,
   "metadata": {},
   "outputs": [
    {
     "data": {
      "text/plain": [
       "<matplotlib.axes._subplots.AxesSubplot at 0x7f0487c12be0>"
      ]
     },
     "execution_count": 17,
     "metadata": {},
     "output_type": "execute_result"
    },
    {
     "data": {
      "image/png": "[encoded data removed]",
      "text/plain": [
       "<Figure size 432x288 with 1 Axes>"
      ]
     },
     "metadata": {
      "image/png": {
       "height": 266,
       "width": 393
      },
      "needs_background": "light"
     },
     "output_type": "display_data"
    }
   ],
   "source": [
    "sns.countplot(table1['product'])"
   ]
  },
  {
   "cell_type": "code",
   "execution_count": null,
   "metadata": {},
   "outputs": [],
   "source": []
  },
  {
   "cell_type": "code",
   "execution_count": 18,
   "metadata": {},
   "outputs": [
    {
     "data": {
      "text/plain": [
       "<matplotlib.axes._subplots.AxesSubplot at 0x7f0487b91390>"
      ]
     },
     "execution_count": 18,
     "metadata": {},
     "output_type": "execute_result"
    },
    {
     "data": {
      "image/png": "[encoded data removed]",
      "text/plain": [
       "<Figure size 432x288 with 1 Axes>"
      ]
     },
     "metadata": {
      "image/png": {
       "height": 266,
       "width": 393
      },
      "needs_background": "light"
     },
     "output_type": "display_data"
    }
   ],
   "source": [
    "sns.countplot(table1['product'])"
   ]
  },
  {
   "cell_type": "code",
   "execution_count": 19,
   "metadata": {},
   "outputs": [
    {
     "data": {
      "text/plain": [
       "<matplotlib.axes._subplots.AxesSubplot at 0x7f0487a80320>"
      ]
     },
     "execution_count": 19,
     "metadata": {},
     "output_type": "execute_result"
    },
    {
     "data": {
      "image/png": "[encoded data removed]",
      "text/plain": [
       "<Figure size 1080x720 with 4 Axes>"
      ]
     },
     "metadata": {
      "image/png": {
       "height": 606,
       "width": 902
      },
      "needs_background": "light"
     },
     "output_type": "display_data"
    }
   ],
   "source": [
    "figure, ax = plt.subplots(nrows = 2, ncols = 2)\n",
    "figure.subplots_adjust(hspace = 0.5, wspace=0.3)\n",
    "figure.set_size_inches(15,10)\n",
    "ax[0][0].set_title(\"hi\")\n",
    "sns.countplot(table1['product'], ax= ax[0][0])\n",
    "ax[0][1].set_title(\"hi2\")\n",
    "sns.distplot(table1['amount'], ax =ax[0][1])\n",
    "ax[1][0].set_title(\"hi2\")\n",
    "\n",
    "sns.countplot(table1['product'], ax= ax[1][0])\n",
    "plt.title(\"hello4\")\n",
    "sns.distplot(table1['amount'], ax =ax[1][1])"
   ]
  },
  {
   "cell_type": "markdown",
   "metadata": {},
   "source": [
    "# Date "
   ]
  },
  {
   "cell_type": "code",
   "execution_count": 20,
   "metadata": {},
   "outputs": [
    {
     "data": {
      "text/html": [
       "<div>\n",
       "<style scoped>\n",
       "    .dataframe tbody tr th:only-of-type {\n",
       "        vertical-align: middle;\n",
       "    }\n",
       "\n",
       "    .dataframe tbody tr th {\n",
       "        vertical-align: top;\n",
       "    }\n",
       "\n",
       "    .dataframe thead th {\n",
       "        text-align: right;\n",
       "    }\n",
       "</style>\n",
       "<table border=\"1\" class=\"dataframe\">\n",
       "  <thead>\n",
       "    <tr style=\"text-align: right;\">\n",
       "      <th></th>\n",
       "      <th>Name</th>\n",
       "      <th>date</th>\n",
       "      <th>amount</th>\n",
       "      <th>product</th>\n",
       "      <th>result</th>\n",
       "    </tr>\n",
       "  </thead>\n",
       "  <tbody>\n",
       "    <tr>\n",
       "      <th>0</th>\n",
       "      <td>Kang</td>\n",
       "      <td>2017-01-01</td>\n",
       "      <td>500</td>\n",
       "      <td>apple</td>\n",
       "      <td>confirmed</td>\n",
       "    </tr>\n",
       "    <tr>\n",
       "      <th>1</th>\n",
       "      <td>Kim</td>\n",
       "      <td>2017-01-03</td>\n",
       "      <td>700</td>\n",
       "      <td>banana</td>\n",
       "      <td>confirmed</td>\n",
       "    </tr>\n",
       "    <tr>\n",
       "      <th>2</th>\n",
       "      <td>Choi</td>\n",
       "      <td>2017-01-05</td>\n",
       "      <td>800</td>\n",
       "      <td>apple</td>\n",
       "      <td>confirmed</td>\n",
       "    </tr>\n",
       "    <tr>\n",
       "      <th>3</th>\n",
       "      <td>Park</td>\n",
       "      <td>2017-01-07</td>\n",
       "      <td>500</td>\n",
       "      <td>cereal</td>\n",
       "      <td>canceled</td>\n",
       "    </tr>\n",
       "    <tr>\n",
       "      <th>4</th>\n",
       "      <td>Kang</td>\n",
       "      <td>2017-01-08</td>\n",
       "      <td>1200</td>\n",
       "      <td>kiwi</td>\n",
       "      <td>confirmed</td>\n",
       "    </tr>\n",
       "    <tr>\n",
       "      <th>5</th>\n",
       "      <td>Choi</td>\n",
       "      <td>2017-01-09</td>\n",
       "      <td>100</td>\n",
       "      <td>melon</td>\n",
       "      <td>confirmed</td>\n",
       "    </tr>\n",
       "    <tr>\n",
       "      <th>6</th>\n",
       "      <td>Lee</td>\n",
       "      <td>2017-01-09</td>\n",
       "      <td>700</td>\n",
       "      <td>banana</td>\n",
       "      <td>confirmed</td>\n",
       "    </tr>\n",
       "    <tr>\n",
       "      <th>7</th>\n",
       "      <td>Yoon</td>\n",
       "      <td>2017-01-10</td>\n",
       "      <td>200</td>\n",
       "      <td>cereal</td>\n",
       "      <td>canceled</td>\n",
       "    </tr>\n",
       "  </tbody>\n",
       "</table>\n",
       "</div>"
      ],
      "text/plain": [
       "   Name        date  amount product     result\n",
       "0  Kang  2017-01-01     500   apple  confirmed\n",
       "1   Kim  2017-01-03     700  banana  confirmed\n",
       "2  Choi  2017-01-05     800   apple  confirmed\n",
       "3  Park  2017-01-07     500  cereal   canceled\n",
       "4  Kang  2017-01-08    1200    kiwi  confirmed\n",
       "5  Choi  2017-01-09     100   melon  confirmed\n",
       "6   Lee  2017-01-09     700  banana  confirmed\n",
       "7  Yoon  2017-01-10     200  cereal   canceled"
      ]
     },
     "execution_count": 20,
     "metadata": {},
     "output_type": "execute_result"
    }
   ],
   "source": [
    "table1"
   ]
  },
  {
   "cell_type": "code",
   "execution_count": 21,
   "metadata": {},
   "outputs": [
    {
     "data": {
      "text/plain": [
       "0    2017-01-01\n",
       "1    2017-01-03\n",
       "2    2017-01-05\n",
       "3    2017-01-07\n",
       "4    2017-01-08\n",
       "5    2017-01-09\n",
       "6    2017-01-09\n",
       "7    2017-01-10\n",
       "Name: date, dtype: object"
      ]
     },
     "execution_count": 21,
     "metadata": {},
     "output_type": "execute_result"
    }
   ],
   "source": [
    "table1['date']"
   ]
  },
  {
   "cell_type": "markdown",
   "metadata": {},
   "source": [
    "### 문자형인 데이터가 날짜형으로 변경된다."
   ]
  },
  {
   "cell_type": "code",
   "execution_count": 22,
   "metadata": {},
   "outputs": [
    {
     "data": {
      "text/plain": [
       "0   2017-01-01\n",
       "1   2017-01-03\n",
       "2   2017-01-05\n",
       "3   2017-01-07\n",
       "4   2017-01-08\n",
       "5   2017-01-09\n",
       "6   2017-01-09\n",
       "7   2017-01-10\n",
       "Name: date, dtype: datetime64[ns]"
      ]
     },
     "execution_count": 22,
     "metadata": {},
     "output_type": "execute_result"
    }
   ],
   "source": [
    "pd.to_datetime(table1['date'])"
   ]
  },
  {
   "cell_type": "markdown",
   "metadata": {},
   "source": [
    "### 원본 손상 없이 데이터 성질 변경"
   ]
  },
  {
   "cell_type": "code",
   "execution_count": 23,
   "metadata": {},
   "outputs": [
    {
     "data": {
      "text/html": [
       "<div>\n",
       "<style scoped>\n",
       "    .dataframe tbody tr th:only-of-type {\n",
       "        vertical-align: middle;\n",
       "    }\n",
       "\n",
       "    .dataframe tbody tr th {\n",
       "        vertical-align: top;\n",
       "    }\n",
       "\n",
       "    .dataframe thead th {\n",
       "        text-align: right;\n",
       "    }\n",
       "</style>\n",
       "<table border=\"1\" class=\"dataframe\">\n",
       "  <thead>\n",
       "    <tr style=\"text-align: right;\">\n",
       "      <th></th>\n",
       "      <th>Name</th>\n",
       "      <th>date</th>\n",
       "      <th>amount</th>\n",
       "      <th>product</th>\n",
       "      <th>result</th>\n",
       "      <th>date(clean)</th>\n",
       "    </tr>\n",
       "  </thead>\n",
       "  <tbody>\n",
       "    <tr>\n",
       "      <th>0</th>\n",
       "      <td>Kang</td>\n",
       "      <td>2017-01-01</td>\n",
       "      <td>500</td>\n",
       "      <td>apple</td>\n",
       "      <td>confirmed</td>\n",
       "      <td>2017-01-01</td>\n",
       "    </tr>\n",
       "    <tr>\n",
       "      <th>1</th>\n",
       "      <td>Kim</td>\n",
       "      <td>2017-01-03</td>\n",
       "      <td>700</td>\n",
       "      <td>banana</td>\n",
       "      <td>confirmed</td>\n",
       "      <td>2017-01-03</td>\n",
       "    </tr>\n",
       "    <tr>\n",
       "      <th>2</th>\n",
       "      <td>Choi</td>\n",
       "      <td>2017-01-05</td>\n",
       "      <td>800</td>\n",
       "      <td>apple</td>\n",
       "      <td>confirmed</td>\n",
       "      <td>2017-01-05</td>\n",
       "    </tr>\n",
       "    <tr>\n",
       "      <th>3</th>\n",
       "      <td>Park</td>\n",
       "      <td>2017-01-07</td>\n",
       "      <td>500</td>\n",
       "      <td>cereal</td>\n",
       "      <td>canceled</td>\n",
       "      <td>2017-01-07</td>\n",
       "    </tr>\n",
       "    <tr>\n",
       "      <th>4</th>\n",
       "      <td>Kang</td>\n",
       "      <td>2017-01-08</td>\n",
       "      <td>1200</td>\n",
       "      <td>kiwi</td>\n",
       "      <td>confirmed</td>\n",
       "      <td>2017-01-08</td>\n",
       "    </tr>\n",
       "    <tr>\n",
       "      <th>5</th>\n",
       "      <td>Choi</td>\n",
       "      <td>2017-01-09</td>\n",
       "      <td>100</td>\n",
       "      <td>melon</td>\n",
       "      <td>confirmed</td>\n",
       "      <td>2017-01-09</td>\n",
       "    </tr>\n",
       "    <tr>\n",
       "      <th>6</th>\n",
       "      <td>Lee</td>\n",
       "      <td>2017-01-09</td>\n",
       "      <td>700</td>\n",
       "      <td>banana</td>\n",
       "      <td>confirmed</td>\n",
       "      <td>2017-01-09</td>\n",
       "    </tr>\n",
       "    <tr>\n",
       "      <th>7</th>\n",
       "      <td>Yoon</td>\n",
       "      <td>2017-01-10</td>\n",
       "      <td>200</td>\n",
       "      <td>cereal</td>\n",
       "      <td>canceled</td>\n",
       "      <td>2017-01-10</td>\n",
       "    </tr>\n",
       "  </tbody>\n",
       "</table>\n",
       "</div>"
      ],
      "text/plain": [
       "   Name        date  amount product     result date(clean)\n",
       "0  Kang  2017-01-01     500   apple  confirmed  2017-01-01\n",
       "1   Kim  2017-01-03     700  banana  confirmed  2017-01-03\n",
       "2  Choi  2017-01-05     800   apple  confirmed  2017-01-05\n",
       "3  Park  2017-01-07     500  cereal   canceled  2017-01-07\n",
       "4  Kang  2017-01-08    1200    kiwi  confirmed  2017-01-08\n",
       "5  Choi  2017-01-09     100   melon  confirmed  2017-01-09\n",
       "6   Lee  2017-01-09     700  banana  confirmed  2017-01-09\n",
       "7  Yoon  2017-01-10     200  cereal   canceled  2017-01-10"
      ]
     },
     "execution_count": 23,
     "metadata": {},
     "output_type": "execute_result"
    }
   ],
   "source": [
    "table1['date(clean)'] = pd.to_datetime(table1['date'])\n",
    "table1"
   ]
  },
  {
   "cell_type": "markdown",
   "metadata": {},
   "source": [
    "### 해당 날짜의 별 가져오기"
   ]
  },
  {
   "cell_type": "code",
   "execution_count": 24,
   "metadata": {},
   "outputs": [
    {
     "data": {
      "text/plain": [
       "0    1\n",
       "1    1\n",
       "2    1\n",
       "3    1\n",
       "4    1\n",
       "5    1\n",
       "6    1\n",
       "7    1\n",
       "Name: date(clean), dtype: int64"
      ]
     },
     "execution_count": 24,
     "metadata": {},
     "output_type": "execute_result"
    }
   ],
   "source": [
    "table1['date(clean)'].dt.month"
   ]
  },
  {
   "cell_type": "code",
   "execution_count": 25,
   "metadata": {},
   "outputs": [
    {
     "data": {
      "text/plain": [
       "0     1\n",
       "1     3\n",
       "2     5\n",
       "3     7\n",
       "4     8\n",
       "5     9\n",
       "6     9\n",
       "7    10\n",
       "Name: date(clean), dtype: int64"
      ]
     },
     "execution_count": 25,
     "metadata": {},
     "output_type": "execute_result"
    }
   ],
   "source": [
    "table1['date(clean)'].dt.day\n"
   ]
  },
  {
   "cell_type": "code",
   "execution_count": 26,
   "metadata": {},
   "outputs": [
    {
     "data": {
      "text/plain": [
       "0      Sunday\n",
       "1     Tuesday\n",
       "2    Thursday\n",
       "3    Saturday\n",
       "4      Sunday\n",
       "5      Monday\n",
       "6      Monday\n",
       "7     Tuesday\n",
       "Name: date(clean), dtype: object"
      ]
     },
     "execution_count": 26,
     "metadata": {},
     "output_type": "execute_result"
    }
   ],
   "source": [
    "table1['date(clean)'].dt.weekday_name"
   ]
  },
  {
   "cell_type": "code",
   "execution_count": 27,
   "metadata": {},
   "outputs": [
    {
     "data": {
      "text/html": [
       "<div>\n",
       "<style scoped>\n",
       "    .dataframe tbody tr th:only-of-type {\n",
       "        vertical-align: middle;\n",
       "    }\n",
       "\n",
       "    .dataframe tbody tr th {\n",
       "        vertical-align: top;\n",
       "    }\n",
       "\n",
       "    .dataframe thead th {\n",
       "        text-align: right;\n",
       "    }\n",
       "</style>\n",
       "<table border=\"1\" class=\"dataframe\">\n",
       "  <thead>\n",
       "    <tr style=\"text-align: right;\">\n",
       "      <th></th>\n",
       "      <th>Name</th>\n",
       "      <th>date</th>\n",
       "      <th>amount</th>\n",
       "      <th>product</th>\n",
       "      <th>result</th>\n",
       "      <th>date(clean)</th>\n",
       "      <th>date(month)</th>\n",
       "      <th>date(day)</th>\n",
       "      <th>date(day_of_week)</th>\n",
       "    </tr>\n",
       "  </thead>\n",
       "  <tbody>\n",
       "    <tr>\n",
       "      <th>0</th>\n",
       "      <td>Kang</td>\n",
       "      <td>2017-01-01</td>\n",
       "      <td>500</td>\n",
       "      <td>apple</td>\n",
       "      <td>confirmed</td>\n",
       "      <td>2017-01-01</td>\n",
       "      <td>1</td>\n",
       "      <td>1</td>\n",
       "      <td>Sunday</td>\n",
       "    </tr>\n",
       "    <tr>\n",
       "      <th>1</th>\n",
       "      <td>Kim</td>\n",
       "      <td>2017-01-03</td>\n",
       "      <td>700</td>\n",
       "      <td>banana</td>\n",
       "      <td>confirmed</td>\n",
       "      <td>2017-01-03</td>\n",
       "      <td>1</td>\n",
       "      <td>3</td>\n",
       "      <td>Tuesday</td>\n",
       "    </tr>\n",
       "    <tr>\n",
       "      <th>2</th>\n",
       "      <td>Choi</td>\n",
       "      <td>2017-01-05</td>\n",
       "      <td>800</td>\n",
       "      <td>apple</td>\n",
       "      <td>confirmed</td>\n",
       "      <td>2017-01-05</td>\n",
       "      <td>1</td>\n",
       "      <td>5</td>\n",
       "      <td>Thursday</td>\n",
       "    </tr>\n",
       "    <tr>\n",
       "      <th>3</th>\n",
       "      <td>Park</td>\n",
       "      <td>2017-01-07</td>\n",
       "      <td>500</td>\n",
       "      <td>cereal</td>\n",
       "      <td>canceled</td>\n",
       "      <td>2017-01-07</td>\n",
       "      <td>1</td>\n",
       "      <td>7</td>\n",
       "      <td>Saturday</td>\n",
       "    </tr>\n",
       "    <tr>\n",
       "      <th>4</th>\n",
       "      <td>Kang</td>\n",
       "      <td>2017-01-08</td>\n",
       "      <td>1200</td>\n",
       "      <td>kiwi</td>\n",
       "      <td>confirmed</td>\n",
       "      <td>2017-01-08</td>\n",
       "      <td>1</td>\n",
       "      <td>8</td>\n",
       "      <td>Sunday</td>\n",
       "    </tr>\n",
       "    <tr>\n",
       "      <th>5</th>\n",
       "      <td>Choi</td>\n",
       "      <td>2017-01-09</td>\n",
       "      <td>100</td>\n",
       "      <td>melon</td>\n",
       "      <td>confirmed</td>\n",
       "      <td>2017-01-09</td>\n",
       "      <td>1</td>\n",
       "      <td>9</td>\n",
       "      <td>Monday</td>\n",
       "    </tr>\n",
       "    <tr>\n",
       "      <th>6</th>\n",
       "      <td>Lee</td>\n",
       "      <td>2017-01-09</td>\n",
       "      <td>700</td>\n",
       "      <td>banana</td>\n",
       "      <td>confirmed</td>\n",
       "      <td>2017-01-09</td>\n",
       "      <td>1</td>\n",
       "      <td>9</td>\n",
       "      <td>Monday</td>\n",
       "    </tr>\n",
       "    <tr>\n",
       "      <th>7</th>\n",
       "      <td>Yoon</td>\n",
       "      <td>2017-01-10</td>\n",
       "      <td>200</td>\n",
       "      <td>cereal</td>\n",
       "      <td>canceled</td>\n",
       "      <td>2017-01-10</td>\n",
       "      <td>1</td>\n",
       "      <td>10</td>\n",
       "      <td>Tuesday</td>\n",
       "    </tr>\n",
       "  </tbody>\n",
       "</table>\n",
       "</div>"
      ],
      "text/plain": [
       "   Name        date  amount product     result date(clean)  date(month)  \\\n",
       "0  Kang  2017-01-01     500   apple  confirmed  2017-01-01            1   \n",
       "1   Kim  2017-01-03     700  banana  confirmed  2017-01-03            1   \n",
       "2  Choi  2017-01-05     800   apple  confirmed  2017-01-05            1   \n",
       "3  Park  2017-01-07     500  cereal   canceled  2017-01-07            1   \n",
       "4  Kang  2017-01-08    1200    kiwi  confirmed  2017-01-08            1   \n",
       "5  Choi  2017-01-09     100   melon  confirmed  2017-01-09            1   \n",
       "6   Lee  2017-01-09     700  banana  confirmed  2017-01-09            1   \n",
       "7  Yoon  2017-01-10     200  cereal   canceled  2017-01-10            1   \n",
       "\n",
       "   date(day) date(day_of_week)  \n",
       "0          1            Sunday  \n",
       "1          3           Tuesday  \n",
       "2          5          Thursday  \n",
       "3          7          Saturday  \n",
       "4          8            Sunday  \n",
       "5          9            Monday  \n",
       "6          9            Monday  \n",
       "7         10           Tuesday  "
      ]
     },
     "execution_count": 27,
     "metadata": {},
     "output_type": "execute_result"
    }
   ],
   "source": [
    "table1['date(month)'] = table1['date(clean)'].dt.month\n",
    "table1['date(day)'] = table1['date(clean)'].dt.day\n",
    "table1['date(day_of_week)'] = table1['date(clean)'].dt.weekday_name\n",
    "table1"
   ]
  },
  {
   "cell_type": "code",
   "execution_count": 28,
   "metadata": {},
   "outputs": [
    {
     "data": {
      "text/html": [
       "<div>\n",
       "<style scoped>\n",
       "    .dataframe tbody tr th:only-of-type {\n",
       "        vertical-align: middle;\n",
       "    }\n",
       "\n",
       "    .dataframe tbody tr th {\n",
       "        vertical-align: top;\n",
       "    }\n",
       "\n",
       "    .dataframe thead th {\n",
       "        text-align: right;\n",
       "    }\n",
       "</style>\n",
       "<table border=\"1\" class=\"dataframe\">\n",
       "  <thead>\n",
       "    <tr style=\"text-align: right;\">\n",
       "      <th></th>\n",
       "      <th>Name</th>\n",
       "      <th>date</th>\n",
       "      <th>amount</th>\n",
       "      <th>product</th>\n",
       "      <th>result</th>\n",
       "      <th>date(clean)</th>\n",
       "      <th>date(month)</th>\n",
       "      <th>date(day)</th>\n",
       "      <th>date(day_of_week)</th>\n",
       "      <th>result(clean)</th>\n",
       "    </tr>\n",
       "  </thead>\n",
       "  <tbody>\n",
       "    <tr>\n",
       "      <th>0</th>\n",
       "      <td>Kang</td>\n",
       "      <td>2017-01-01</td>\n",
       "      <td>500</td>\n",
       "      <td>apple</td>\n",
       "      <td>confirmed</td>\n",
       "      <td>2017-01-01</td>\n",
       "      <td>1</td>\n",
       "      <td>1</td>\n",
       "      <td>Sunday</td>\n",
       "      <td>확인</td>\n",
       "    </tr>\n",
       "    <tr>\n",
       "      <th>1</th>\n",
       "      <td>Kim</td>\n",
       "      <td>2017-01-03</td>\n",
       "      <td>700</td>\n",
       "      <td>banana</td>\n",
       "      <td>confirmed</td>\n",
       "      <td>2017-01-03</td>\n",
       "      <td>1</td>\n",
       "      <td>3</td>\n",
       "      <td>Tuesday</td>\n",
       "      <td>확인</td>\n",
       "    </tr>\n",
       "    <tr>\n",
       "      <th>2</th>\n",
       "      <td>Choi</td>\n",
       "      <td>2017-01-05</td>\n",
       "      <td>800</td>\n",
       "      <td>apple</td>\n",
       "      <td>confirmed</td>\n",
       "      <td>2017-01-05</td>\n",
       "      <td>1</td>\n",
       "      <td>5</td>\n",
       "      <td>Thursday</td>\n",
       "      <td>확인</td>\n",
       "    </tr>\n",
       "    <tr>\n",
       "      <th>3</th>\n",
       "      <td>Park</td>\n",
       "      <td>2017-01-07</td>\n",
       "      <td>500</td>\n",
       "      <td>cereal</td>\n",
       "      <td>canceled</td>\n",
       "      <td>2017-01-07</td>\n",
       "      <td>1</td>\n",
       "      <td>7</td>\n",
       "      <td>Saturday</td>\n",
       "      <td>취소</td>\n",
       "    </tr>\n",
       "    <tr>\n",
       "      <th>4</th>\n",
       "      <td>Kang</td>\n",
       "      <td>2017-01-08</td>\n",
       "      <td>1200</td>\n",
       "      <td>kiwi</td>\n",
       "      <td>confirmed</td>\n",
       "      <td>2017-01-08</td>\n",
       "      <td>1</td>\n",
       "      <td>8</td>\n",
       "      <td>Sunday</td>\n",
       "      <td>확인</td>\n",
       "    </tr>\n",
       "    <tr>\n",
       "      <th>5</th>\n",
       "      <td>Choi</td>\n",
       "      <td>2017-01-09</td>\n",
       "      <td>100</td>\n",
       "      <td>melon</td>\n",
       "      <td>confirmed</td>\n",
       "      <td>2017-01-09</td>\n",
       "      <td>1</td>\n",
       "      <td>9</td>\n",
       "      <td>Monday</td>\n",
       "      <td>확인</td>\n",
       "    </tr>\n",
       "    <tr>\n",
       "      <th>6</th>\n",
       "      <td>Lee</td>\n",
       "      <td>2017-01-09</td>\n",
       "      <td>700</td>\n",
       "      <td>banana</td>\n",
       "      <td>confirmed</td>\n",
       "      <td>2017-01-09</td>\n",
       "      <td>1</td>\n",
       "      <td>9</td>\n",
       "      <td>Monday</td>\n",
       "      <td>확인</td>\n",
       "    </tr>\n",
       "    <tr>\n",
       "      <th>7</th>\n",
       "      <td>Yoon</td>\n",
       "      <td>2017-01-10</td>\n",
       "      <td>200</td>\n",
       "      <td>cereal</td>\n",
       "      <td>canceled</td>\n",
       "      <td>2017-01-10</td>\n",
       "      <td>1</td>\n",
       "      <td>10</td>\n",
       "      <td>Tuesday</td>\n",
       "      <td>취소</td>\n",
       "    </tr>\n",
       "  </tbody>\n",
       "</table>\n",
       "</div>"
      ],
      "text/plain": [
       "   Name        date  amount product     result date(clean)  date(month)  \\\n",
       "0  Kang  2017-01-01     500   apple  confirmed  2017-01-01            1   \n",
       "1   Kim  2017-01-03     700  banana  confirmed  2017-01-03            1   \n",
       "2  Choi  2017-01-05     800   apple  confirmed  2017-01-05            1   \n",
       "3  Park  2017-01-07     500  cereal   canceled  2017-01-07            1   \n",
       "4  Kang  2017-01-08    1200    kiwi  confirmed  2017-01-08            1   \n",
       "5  Choi  2017-01-09     100   melon  confirmed  2017-01-09            1   \n",
       "6   Lee  2017-01-09     700  banana  confirmed  2017-01-09            1   \n",
       "7  Yoon  2017-01-10     200  cereal   canceled  2017-01-10            1   \n",
       "\n",
       "   date(day) date(day_of_week) result(clean)  \n",
       "0          1            Sunday            확인  \n",
       "1          3           Tuesday            확인  \n",
       "2          5          Thursday            확인  \n",
       "3          7          Saturday            취소  \n",
       "4          8            Sunday            확인  \n",
       "5          9            Monday            확인  \n",
       "6          9            Monday            확인  \n",
       "7         10           Tuesday            취소  "
      ]
     },
     "execution_count": 28,
     "metadata": {},
     "output_type": "execute_result"
    }
   ],
   "source": [
    "table1['result(clean)'] = table1['result'].replace('confirmed', '확인').replace('canceled', '취소')\n",
    "table1"
   ]
  },
  {
   "cell_type": "code",
   "execution_count": 29,
   "metadata": {},
   "outputs": [
    {
     "data": {
      "text/plain": [
       "2"
      ]
     },
     "execution_count": 29,
     "metadata": {},
     "output_type": "execute_result"
    }
   ],
   "source": [
    "def num(data):\n",
    "    data\n",
    "    return data ==\"apple\"\n",
    "\n",
    "table1[\"product\"].apply(num).sum()\n"
   ]
  },
  {
   "cell_type": "code",
   "execution_count": 35,
   "metadata": {},
   "outputs": [
    {
     "data": {
      "text/html": [
       "<div>\n",
       "<style scoped>\n",
       "    .dataframe tbody tr th:only-of-type {\n",
       "        vertical-align: middle;\n",
       "    }\n",
       "\n",
       "    .dataframe tbody tr th {\n",
       "        vertical-align: top;\n",
       "    }\n",
       "\n",
       "    .dataframe thead th {\n",
       "        text-align: right;\n",
       "    }\n",
       "</style>\n",
       "<table border=\"1\" class=\"dataframe\">\n",
       "  <thead>\n",
       "    <tr style=\"text-align: right;\">\n",
       "      <th></th>\n",
       "      <th>Name</th>\n",
       "      <th>date</th>\n",
       "      <th>amount</th>\n",
       "      <th>product</th>\n",
       "      <th>result</th>\n",
       "    </tr>\n",
       "  </thead>\n",
       "  <tbody>\n",
       "    <tr>\n",
       "      <th>0</th>\n",
       "      <td>Kang</td>\n",
       "      <td>2017-01-01</td>\n",
       "      <td>500</td>\n",
       "      <td>apple</td>\n",
       "      <td>confirmed</td>\n",
       "    </tr>\n",
       "    <tr>\n",
       "      <th>1</th>\n",
       "      <td>Kim</td>\n",
       "      <td>2017-01-03</td>\n",
       "      <td>700</td>\n",
       "      <td>banana</td>\n",
       "      <td>confirmed</td>\n",
       "    </tr>\n",
       "    <tr>\n",
       "      <th>2</th>\n",
       "      <td>Choi</td>\n",
       "      <td>2017-01-05</td>\n",
       "      <td>800</td>\n",
       "      <td>apple</td>\n",
       "      <td>confirmed</td>\n",
       "    </tr>\n",
       "    <tr>\n",
       "      <th>3</th>\n",
       "      <td>Park</td>\n",
       "      <td>2017-01-07</td>\n",
       "      <td>500</td>\n",
       "      <td>cereal</td>\n",
       "      <td>canceled</td>\n",
       "    </tr>\n",
       "    <tr>\n",
       "      <th>4</th>\n",
       "      <td>Kang</td>\n",
       "      <td>2017-01-08</td>\n",
       "      <td>1200</td>\n",
       "      <td>kiwi</td>\n",
       "      <td>confirmed</td>\n",
       "    </tr>\n",
       "    <tr>\n",
       "      <th>5</th>\n",
       "      <td>Choi</td>\n",
       "      <td>2017-01-09</td>\n",
       "      <td>100</td>\n",
       "      <td>melon</td>\n",
       "      <td>confirmed</td>\n",
       "    </tr>\n",
       "    <tr>\n",
       "      <th>6</th>\n",
       "      <td>Lee</td>\n",
       "      <td>2017-01-09</td>\n",
       "      <td>700</td>\n",
       "      <td>banana</td>\n",
       "      <td>confirmed</td>\n",
       "    </tr>\n",
       "    <tr>\n",
       "      <th>7</th>\n",
       "      <td>Yoon</td>\n",
       "      <td>2017-01-10</td>\n",
       "      <td>200</td>\n",
       "      <td>cereal</td>\n",
       "      <td>canceled</td>\n",
       "    </tr>\n",
       "  </tbody>\n",
       "</table>\n",
       "</div>"
      ],
      "text/plain": [
       "   Name        date  amount product     result\n",
       "0  Kang  2017-01-01     500   apple  confirmed\n",
       "1   Kim  2017-01-03     700  banana  confirmed\n",
       "2  Choi  2017-01-05     800   apple  confirmed\n",
       "3  Park  2017-01-07     500  cereal   canceled\n",
       "4  Kang  2017-01-08    1200    kiwi  confirmed\n",
       "5  Choi  2017-01-09     100   melon  confirmed\n",
       "6   Lee  2017-01-09     700  banana  confirmed\n",
       "7  Yoon  2017-01-10     200  cereal   canceled"
      ]
     },
     "execution_count": 35,
     "metadata": {},
     "output_type": "execute_result"
    }
   ],
   "source": [
    "table1"
   ]
  },
  {
   "cell_type": "code",
   "execution_count": 41,
   "metadata": {},
   "outputs": [
    {
     "data": {
      "text/html": [
       "<div>\n",
       "<style scoped>\n",
       "    .dataframe tbody tr th:only-of-type {\n",
       "        vertical-align: middle;\n",
       "    }\n",
       "\n",
       "    .dataframe tbody tr th {\n",
       "        vertical-align: top;\n",
       "    }\n",
       "\n",
       "    .dataframe thead th {\n",
       "        text-align: right;\n",
       "    }\n",
       "</style>\n",
       "<table border=\"1\" class=\"dataframe\">\n",
       "  <thead>\n",
       "    <tr style=\"text-align: right;\">\n",
       "      <th></th>\n",
       "      <th>product</th>\n",
       "      <th>result</th>\n",
       "    </tr>\n",
       "  </thead>\n",
       "  <tbody>\n",
       "    <tr>\n",
       "      <th>count</th>\n",
       "      <td>8</td>\n",
       "      <td>8</td>\n",
       "    </tr>\n",
       "    <tr>\n",
       "      <th>unique</th>\n",
       "      <td>5</td>\n",
       "      <td>2</td>\n",
       "    </tr>\n",
       "    <tr>\n",
       "      <th>top</th>\n",
       "      <td>banana</td>\n",
       "      <td>confirmed</td>\n",
       "    </tr>\n",
       "    <tr>\n",
       "      <th>freq</th>\n",
       "      <td>2</td>\n",
       "      <td>6</td>\n",
       "    </tr>\n",
       "  </tbody>\n",
       "</table>\n",
       "</div>"
      ],
      "text/plain": [
       "       product     result\n",
       "count        8          8\n",
       "unique       5          2\n",
       "top     banana  confirmed\n",
       "freq         2          6"
      ]
     },
     "execution_count": 41,
     "metadata": {},
     "output_type": "execute_result"
    }
   ],
   "source": [
    "table1[['product','result']].describe()"
   ]
  },
  {
   "cell_type": "code",
   "execution_count": 50,
   "metadata": {},
   "outputs": [
    {
     "data": {
      "text/html": [
       "<div>\n",
       "<style scoped>\n",
       "    .dataframe tbody tr th:only-of-type {\n",
       "        vertical-align: middle;\n",
       "    }\n",
       "\n",
       "    .dataframe tbody tr th {\n",
       "        vertical-align: top;\n",
       "    }\n",
       "\n",
       "    .dataframe thead th {\n",
       "        text-align: right;\n",
       "    }\n",
       "</style>\n",
       "<table border=\"1\" class=\"dataframe\">\n",
       "  <thead>\n",
       "    <tr style=\"text-align: right;\">\n",
       "      <th></th>\n",
       "      <th>amount</th>\n",
       "    </tr>\n",
       "  </thead>\n",
       "  <tbody>\n",
       "    <tr>\n",
       "      <th>count</th>\n",
       "      <td>8.000000</td>\n",
       "    </tr>\n",
       "    <tr>\n",
       "      <th>mean</th>\n",
       "      <td>587.500000</td>\n",
       "    </tr>\n",
       "    <tr>\n",
       "      <th>std</th>\n",
       "      <td>348.209707</td>\n",
       "    </tr>\n",
       "    <tr>\n",
       "      <th>min</th>\n",
       "      <td>100.000000</td>\n",
       "    </tr>\n",
       "    <tr>\n",
       "      <th>25%</th>\n",
       "      <td>425.000000</td>\n",
       "    </tr>\n",
       "    <tr>\n",
       "      <th>50%</th>\n",
       "      <td>600.000000</td>\n",
       "    </tr>\n",
       "    <tr>\n",
       "      <th>75%</th>\n",
       "      <td>725.000000</td>\n",
       "    </tr>\n",
       "    <tr>\n",
       "      <th>max</th>\n",
       "      <td>1200.000000</td>\n",
       "    </tr>\n",
       "  </tbody>\n",
       "</table>\n",
       "</div>"
      ],
      "text/plain": [
       "            amount\n",
       "count     8.000000\n",
       "mean    587.500000\n",
       "std     348.209707\n",
       "min     100.000000\n",
       "25%     425.000000\n",
       "50%     600.000000\n",
       "75%     725.000000\n",
       "max    1200.000000"
      ]
     },
     "execution_count": 50,
     "metadata": {},
     "output_type": "execute_result"
    }
   ],
   "source": [
    "table1.describe().round(9)"
   ]
  },
  {
   "cell_type": "markdown",
   "metadata": {},
   "source": [
    "# indexing"
   ]
  },
  {
   "cell_type": "code",
   "execution_count": 55,
   "metadata": {},
   "outputs": [
    {
     "data": {
      "text/html": [
       "<div>\n",
       "<style scoped>\n",
       "    .dataframe tbody tr th:only-of-type {\n",
       "        vertical-align: middle;\n",
       "    }\n",
       "\n",
       "    .dataframe tbody tr th {\n",
       "        vertical-align: top;\n",
       "    }\n",
       "\n",
       "    .dataframe thead th {\n",
       "        text-align: right;\n",
       "    }\n",
       "</style>\n",
       "<table border=\"1\" class=\"dataframe\">\n",
       "  <thead>\n",
       "    <tr style=\"text-align: right;\">\n",
       "      <th></th>\n",
       "      <th>Name</th>\n",
       "      <th>date</th>\n",
       "      <th>amount</th>\n",
       "      <th>product</th>\n",
       "      <th>result</th>\n",
       "    </tr>\n",
       "  </thead>\n",
       "  <tbody>\n",
       "    <tr>\n",
       "      <th>3</th>\n",
       "      <td>Park</td>\n",
       "      <td>2017-01-07</td>\n",
       "      <td>500</td>\n",
       "      <td>cereal</td>\n",
       "      <td>canceled</td>\n",
       "    </tr>\n",
       "  </tbody>\n",
       "</table>\n",
       "</div>"
      ],
      "text/plain": [
       "   Name        date  amount product    result\n",
       "3  Park  2017-01-07     500  cereal  canceled"
      ]
     },
     "execution_count": 55,
     "metadata": {},
     "output_type": "execute_result"
    }
   ],
   "source": [
    "table1[(table1['amount'] > 200) & (table1['result'] == 'canceled')]"
   ]
  },
  {
   "cell_type": "markdown",
   "metadata": {},
   "source": [
    "# loc "
   ]
  },
  {
   "cell_type": "code",
   "execution_count": 57,
   "metadata": {},
   "outputs": [
    {
     "data": {
      "text/plain": [
       "0    2017-01-01\n",
       "1    2017-01-03\n",
       "2    2017-01-05\n",
       "3    2017-01-07\n",
       "4    2017-01-08\n",
       "5    2017-01-09\n",
       "6    2017-01-09\n",
       "7    2017-01-10\n",
       "Name: date, dtype: object"
      ]
     },
     "execution_count": 57,
     "metadata": {},
     "output_type": "execute_result"
    }
   ],
   "source": [
    "table1['date']"
   ]
  },
  {
   "cell_type": "code",
   "execution_count": 63,
   "metadata": {},
   "outputs": [
    {
     "data": {
      "text/html": [
       "<div>\n",
       "<style scoped>\n",
       "    .dataframe tbody tr th:only-of-type {\n",
       "        vertical-align: middle;\n",
       "    }\n",
       "\n",
       "    .dataframe tbody tr th {\n",
       "        vertical-align: top;\n",
       "    }\n",
       "\n",
       "    .dataframe thead th {\n",
       "        text-align: right;\n",
       "    }\n",
       "</style>\n",
       "<table border=\"1\" class=\"dataframe\">\n",
       "  <thead>\n",
       "    <tr style=\"text-align: right;\">\n",
       "      <th></th>\n",
       "      <th>Name</th>\n",
       "      <th>date</th>\n",
       "      <th>amount</th>\n",
       "      <th>product</th>\n",
       "      <th>result</th>\n",
       "    </tr>\n",
       "  </thead>\n",
       "  <tbody>\n",
       "    <tr>\n",
       "      <th>3</th>\n",
       "      <td>Park</td>\n",
       "      <td>2017-01-07</td>\n",
       "      <td>500</td>\n",
       "      <td>cereal</td>\n",
       "      <td>canceled</td>\n",
       "    </tr>\n",
       "    <tr>\n",
       "      <th>4</th>\n",
       "      <td>Kang</td>\n",
       "      <td>2017-01-08</td>\n",
       "      <td>1200</td>\n",
       "      <td>kiwi</td>\n",
       "      <td>confirmed</td>\n",
       "    </tr>\n",
       "    <tr>\n",
       "      <th>5</th>\n",
       "      <td>Choi</td>\n",
       "      <td>2017-01-09</td>\n",
       "      <td>100</td>\n",
       "      <td>melon</td>\n",
       "      <td>confirmed</td>\n",
       "    </tr>\n",
       "  </tbody>\n",
       "</table>\n",
       "</div>"
      ],
      "text/plain": [
       "   Name        date  amount product     result\n",
       "3  Park  2017-01-07     500  cereal   canceled\n",
       "4  Kang  2017-01-08    1200    kiwi  confirmed\n",
       "5  Choi  2017-01-09     100   melon  confirmed"
      ]
     },
     "execution_count": 63,
     "metadata": {},
     "output_type": "execute_result"
    }
   ],
   "source": [
    "table1.loc[3:5]"
   ]
  },
  {
   "cell_type": "code",
   "execution_count": 64,
   "metadata": {},
   "outputs": [
    {
     "data": {
      "text/html": [
       "<div>\n",
       "<style scoped>\n",
       "    .dataframe tbody tr th:only-of-type {\n",
       "        vertical-align: middle;\n",
       "    }\n",
       "\n",
       "    .dataframe tbody tr th {\n",
       "        vertical-align: top;\n",
       "    }\n",
       "\n",
       "    .dataframe thead th {\n",
       "        text-align: right;\n",
       "    }\n",
       "</style>\n",
       "<table border=\"1\" class=\"dataframe\">\n",
       "  <thead>\n",
       "    <tr style=\"text-align: right;\">\n",
       "      <th></th>\n",
       "      <th>amount</th>\n",
       "      <th>product</th>\n",
       "    </tr>\n",
       "  </thead>\n",
       "  <tbody>\n",
       "    <tr>\n",
       "      <th>3</th>\n",
       "      <td>500</td>\n",
       "      <td>cereal</td>\n",
       "    </tr>\n",
       "    <tr>\n",
       "      <th>4</th>\n",
       "      <td>1200</td>\n",
       "      <td>kiwi</td>\n",
       "    </tr>\n",
       "    <tr>\n",
       "      <th>5</th>\n",
       "      <td>100</td>\n",
       "      <td>melon</td>\n",
       "    </tr>\n",
       "  </tbody>\n",
       "</table>\n",
       "</div>"
      ],
      "text/plain": [
       "   amount product\n",
       "3     500  cereal\n",
       "4    1200    kiwi\n",
       "5     100   melon"
      ]
     },
     "execution_count": 64,
     "metadata": {},
     "output_type": "execute_result"
    }
   ],
   "source": [
    "table1.loc[3:5][['amount', 'product']]"
   ]
  },
  {
   "cell_type": "markdown",
   "metadata": {},
   "source": [
    "# apply"
   ]
  },
  {
   "cell_type": "code",
   "execution_count": 65,
   "metadata": {},
   "outputs": [
    {
     "data": {
      "text/html": [
       "<div>\n",
       "<style scoped>\n",
       "    .dataframe tbody tr th:only-of-type {\n",
       "        vertical-align: middle;\n",
       "    }\n",
       "\n",
       "    .dataframe tbody tr th {\n",
       "        vertical-align: top;\n",
       "    }\n",
       "\n",
       "    .dataframe thead th {\n",
       "        text-align: right;\n",
       "    }\n",
       "</style>\n",
       "<table border=\"1\" class=\"dataframe\">\n",
       "  <thead>\n",
       "    <tr style=\"text-align: right;\">\n",
       "      <th></th>\n",
       "      <th>Name</th>\n",
       "      <th>date</th>\n",
       "      <th>amount</th>\n",
       "      <th>product</th>\n",
       "      <th>result</th>\n",
       "    </tr>\n",
       "  </thead>\n",
       "  <tbody>\n",
       "    <tr>\n",
       "      <th>0</th>\n",
       "      <td>Kang</td>\n",
       "      <td>2017-01-01</td>\n",
       "      <td>500</td>\n",
       "      <td>apple</td>\n",
       "      <td>confirmed</td>\n",
       "    </tr>\n",
       "    <tr>\n",
       "      <th>1</th>\n",
       "      <td>Kim</td>\n",
       "      <td>2017-01-03</td>\n",
       "      <td>700</td>\n",
       "      <td>banana</td>\n",
       "      <td>confirmed</td>\n",
       "    </tr>\n",
       "    <tr>\n",
       "      <th>2</th>\n",
       "      <td>Choi</td>\n",
       "      <td>2017-01-05</td>\n",
       "      <td>800</td>\n",
       "      <td>apple</td>\n",
       "      <td>confirmed</td>\n",
       "    </tr>\n",
       "    <tr>\n",
       "      <th>3</th>\n",
       "      <td>Park</td>\n",
       "      <td>2017-01-07</td>\n",
       "      <td>500</td>\n",
       "      <td>cereal</td>\n",
       "      <td>canceled</td>\n",
       "    </tr>\n",
       "    <tr>\n",
       "      <th>4</th>\n",
       "      <td>Kang</td>\n",
       "      <td>2017-01-08</td>\n",
       "      <td>1200</td>\n",
       "      <td>kiwi</td>\n",
       "      <td>confirmed</td>\n",
       "    </tr>\n",
       "    <tr>\n",
       "      <th>5</th>\n",
       "      <td>Choi</td>\n",
       "      <td>2017-01-09</td>\n",
       "      <td>100</td>\n",
       "      <td>melon</td>\n",
       "      <td>confirmed</td>\n",
       "    </tr>\n",
       "    <tr>\n",
       "      <th>6</th>\n",
       "      <td>Lee</td>\n",
       "      <td>2017-01-09</td>\n",
       "      <td>700</td>\n",
       "      <td>banana</td>\n",
       "      <td>confirmed</td>\n",
       "    </tr>\n",
       "    <tr>\n",
       "      <th>7</th>\n",
       "      <td>Yoon</td>\n",
       "      <td>2017-01-10</td>\n",
       "      <td>200</td>\n",
       "      <td>cereal</td>\n",
       "      <td>canceled</td>\n",
       "    </tr>\n",
       "  </tbody>\n",
       "</table>\n",
       "</div>"
      ],
      "text/plain": [
       "   Name        date  amount product     result\n",
       "0  Kang  2017-01-01     500   apple  confirmed\n",
       "1   Kim  2017-01-03     700  banana  confirmed\n",
       "2  Choi  2017-01-05     800   apple  confirmed\n",
       "3  Park  2017-01-07     500  cereal   canceled\n",
       "4  Kang  2017-01-08    1200    kiwi  confirmed\n",
       "5  Choi  2017-01-09     100   melon  confirmed\n",
       "6   Lee  2017-01-09     700  banana  confirmed\n",
       "7  Yoon  2017-01-10     200  cereal   canceled"
      ]
     },
     "execution_count": 65,
     "metadata": {},
     "output_type": "execute_result"
    }
   ],
   "source": [
    "table1"
   ]
  },
  {
   "cell_type": "code",
   "execution_count": 113,
   "metadata": {},
   "outputs": [
    {
     "ename": "AttributeError",
     "evalue": "'tuple' object has no attribute 'apply'",
     "output_type": "error",
     "traceback": [
      "\u001b[0;31m---------------------------------------------------------------------------\u001b[0m",
      "\u001b[0;31mAttributeError\u001b[0m                            Traceback (most recent call last)",
      "\u001b[0;32m<ipython-input-113-4e62195dcdfc>\u001b[0m in \u001b[0;36m<module>\u001b[0;34m\u001b[0m\n\u001b[1;32m     15\u001b[0m \u001b[0;31m#table1[['Name','result','product']].apply(info)\u001b[0m\u001b[0;34m\u001b[0m\u001b[0;34m\u001b[0m\u001b[0;34m\u001b[0m\u001b[0m\n\u001b[1;32m     16\u001b[0m \u001b[0;34m\u001b[0m\u001b[0m\n\u001b[0;32m---> 17\u001b[0;31m \u001b[0;34m(\u001b[0m\u001b[0mtable1\u001b[0m\u001b[0;34m[\u001b[0m\u001b[0;34m'Name'\u001b[0m\u001b[0;34m]\u001b[0m\u001b[0;34m,\u001b[0m\u001b[0mtable1\u001b[0m\u001b[0;34m[\u001b[0m\u001b[0;34m'result'\u001b[0m\u001b[0;34m]\u001b[0m\u001b[0;34m)\u001b[0m\u001b[0;34m.\u001b[0m\u001b[0mapply\u001b[0m\u001b[0;34m(\u001b[0m\u001b[0mrow\u001b[0m\u001b[0;34m)\u001b[0m\u001b[0;34m\u001b[0m\u001b[0;34m\u001b[0m\u001b[0m\n\u001b[0m",
      "\u001b[0;31mAttributeError\u001b[0m: 'tuple' object has no attribute 'apply'"
     ]
    }
   ],
   "source": [
    "def function1(row):\n",
    "    return row[0:4]+\"년\"+row[5:7]+\"월\"+row[8:]+\"일\"\n",
    "\n",
    "#table1['date'].apply(function1)\n",
    "\n",
    "def function2(row):\n",
    "    return row[0:4]+row[5:7]+row[-2:]\n",
    "# table1['date'].apply(function2)\n",
    "\n",
    "def info(row):\n",
    "    print(row.value_counts())\n",
    "    print('-'*50)\n",
    "    print(row.describe())\n",
    "\n",
    "#table1[['Name','result','product']].apply(info)\n",
    "\n",
    "(table1['Name'],table1['result']).apply(row)"
   ]
  },
  {
   "cell_type": "code",
   "execution_count": 84,
   "metadata": {},
   "outputs": [
    {
     "data": {
      "text/plain": [
       "0    A\n",
       "1    A\n",
       "2    A\n",
       "3    A\n",
       "4    B\n",
       "5    B\n",
       "6    A\n",
       "7    A\n",
       "Name: product, dtype: object"
      ]
     },
     "execution_count": 84,
     "metadata": {},
     "output_type": "execute_result"
    }
   ],
   "source": [
    "def function3(row):\n",
    "    if 'a' in row:\n",
    "        return 'A'\n",
    "    else:\n",
    "        return 'B'\n",
    "\n",
    "table1['product'].apply(function3)"
   ]
  },
  {
   "cell_type": "markdown",
   "metadata": {},
   "source": [
    "# col name"
   ]
  },
  {
   "cell_type": "code",
   "execution_count": 85,
   "metadata": {},
   "outputs": [
    {
     "data": {
      "text/html": [
       "<div>\n",
       "<style scoped>\n",
       "    .dataframe tbody tr th:only-of-type {\n",
       "        vertical-align: middle;\n",
       "    }\n",
       "\n",
       "    .dataframe tbody tr th {\n",
       "        vertical-align: top;\n",
       "    }\n",
       "\n",
       "    .dataframe thead th {\n",
       "        text-align: right;\n",
       "    }\n",
       "</style>\n",
       "<table border=\"1\" class=\"dataframe\">\n",
       "  <thead>\n",
       "    <tr style=\"text-align: right;\">\n",
       "      <th></th>\n",
       "      <th>Name</th>\n",
       "      <th>date</th>\n",
       "      <th>amount</th>\n",
       "      <th>product</th>\n",
       "      <th>result</th>\n",
       "    </tr>\n",
       "  </thead>\n",
       "  <tbody>\n",
       "    <tr>\n",
       "      <th>0</th>\n",
       "      <td>Kang</td>\n",
       "      <td>2017-01-01</td>\n",
       "      <td>500</td>\n",
       "      <td>apple</td>\n",
       "      <td>confirmed</td>\n",
       "    </tr>\n",
       "    <tr>\n",
       "      <th>1</th>\n",
       "      <td>Kim</td>\n",
       "      <td>2017-01-03</td>\n",
       "      <td>700</td>\n",
       "      <td>banana</td>\n",
       "      <td>confirmed</td>\n",
       "    </tr>\n",
       "    <tr>\n",
       "      <th>2</th>\n",
       "      <td>Choi</td>\n",
       "      <td>2017-01-05</td>\n",
       "      <td>800</td>\n",
       "      <td>apple</td>\n",
       "      <td>confirmed</td>\n",
       "    </tr>\n",
       "    <tr>\n",
       "      <th>3</th>\n",
       "      <td>Park</td>\n",
       "      <td>2017-01-07</td>\n",
       "      <td>500</td>\n",
       "      <td>cereal</td>\n",
       "      <td>canceled</td>\n",
       "    </tr>\n",
       "    <tr>\n",
       "      <th>4</th>\n",
       "      <td>Kang</td>\n",
       "      <td>2017-01-08</td>\n",
       "      <td>1200</td>\n",
       "      <td>kiwi</td>\n",
       "      <td>confirmed</td>\n",
       "    </tr>\n",
       "    <tr>\n",
       "      <th>5</th>\n",
       "      <td>Choi</td>\n",
       "      <td>2017-01-09</td>\n",
       "      <td>100</td>\n",
       "      <td>melon</td>\n",
       "      <td>confirmed</td>\n",
       "    </tr>\n",
       "    <tr>\n",
       "      <th>6</th>\n",
       "      <td>Lee</td>\n",
       "      <td>2017-01-09</td>\n",
       "      <td>700</td>\n",
       "      <td>banana</td>\n",
       "      <td>confirmed</td>\n",
       "    </tr>\n",
       "    <tr>\n",
       "      <th>7</th>\n",
       "      <td>Yoon</td>\n",
       "      <td>2017-01-10</td>\n",
       "      <td>200</td>\n",
       "      <td>cereal</td>\n",
       "      <td>canceled</td>\n",
       "    </tr>\n",
       "  </tbody>\n",
       "</table>\n",
       "</div>"
      ],
      "text/plain": [
       "   Name        date  amount product     result\n",
       "0  Kang  2017-01-01     500   apple  confirmed\n",
       "1   Kim  2017-01-03     700  banana  confirmed\n",
       "2  Choi  2017-01-05     800   apple  confirmed\n",
       "3  Park  2017-01-07     500  cereal   canceled\n",
       "4  Kang  2017-01-08    1200    kiwi  confirmed\n",
       "5  Choi  2017-01-09     100   melon  confirmed\n",
       "6   Lee  2017-01-09     700  banana  confirmed\n",
       "7  Yoon  2017-01-10     200  cereal   canceled"
      ]
     },
     "execution_count": 85,
     "metadata": {},
     "output_type": "execute_result"
    }
   ],
   "source": [
    "table1"
   ]
  },
  {
   "cell_type": "code",
   "execution_count": 89,
   "metadata": {},
   "outputs": [],
   "source": [
    "table1.rename(columns = {'Name':'하이루'}, inplace = True)"
   ]
  },
  {
   "cell_type": "code",
   "execution_count": 90,
   "metadata": {},
   "outputs": [
    {
     "data": {
      "text/html": [
       "<div>\n",
       "<style scoped>\n",
       "    .dataframe tbody tr th:only-of-type {\n",
       "        vertical-align: middle;\n",
       "    }\n",
       "\n",
       "    .dataframe tbody tr th {\n",
       "        vertical-align: top;\n",
       "    }\n",
       "\n",
       "    .dataframe thead th {\n",
       "        text-align: right;\n",
       "    }\n",
       "</style>\n",
       "<table border=\"1\" class=\"dataframe\">\n",
       "  <thead>\n",
       "    <tr style=\"text-align: right;\">\n",
       "      <th></th>\n",
       "      <th>하이루</th>\n",
       "      <th>date</th>\n",
       "      <th>amount</th>\n",
       "      <th>product</th>\n",
       "      <th>result</th>\n",
       "    </tr>\n",
       "  </thead>\n",
       "  <tbody>\n",
       "    <tr>\n",
       "      <th>0</th>\n",
       "      <td>Kang</td>\n",
       "      <td>2017-01-01</td>\n",
       "      <td>500</td>\n",
       "      <td>apple</td>\n",
       "      <td>confirmed</td>\n",
       "    </tr>\n",
       "    <tr>\n",
       "      <th>1</th>\n",
       "      <td>Kim</td>\n",
       "      <td>2017-01-03</td>\n",
       "      <td>700</td>\n",
       "      <td>banana</td>\n",
       "      <td>confirmed</td>\n",
       "    </tr>\n",
       "    <tr>\n",
       "      <th>2</th>\n",
       "      <td>Choi</td>\n",
       "      <td>2017-01-05</td>\n",
       "      <td>800</td>\n",
       "      <td>apple</td>\n",
       "      <td>confirmed</td>\n",
       "    </tr>\n",
       "    <tr>\n",
       "      <th>3</th>\n",
       "      <td>Park</td>\n",
       "      <td>2017-01-07</td>\n",
       "      <td>500</td>\n",
       "      <td>cereal</td>\n",
       "      <td>canceled</td>\n",
       "    </tr>\n",
       "    <tr>\n",
       "      <th>4</th>\n",
       "      <td>Kang</td>\n",
       "      <td>2017-01-08</td>\n",
       "      <td>1200</td>\n",
       "      <td>kiwi</td>\n",
       "      <td>confirmed</td>\n",
       "    </tr>\n",
       "    <tr>\n",
       "      <th>5</th>\n",
       "      <td>Choi</td>\n",
       "      <td>2017-01-09</td>\n",
       "      <td>100</td>\n",
       "      <td>melon</td>\n",
       "      <td>confirmed</td>\n",
       "    </tr>\n",
       "    <tr>\n",
       "      <th>6</th>\n",
       "      <td>Lee</td>\n",
       "      <td>2017-01-09</td>\n",
       "      <td>700</td>\n",
       "      <td>banana</td>\n",
       "      <td>confirmed</td>\n",
       "    </tr>\n",
       "    <tr>\n",
       "      <th>7</th>\n",
       "      <td>Yoon</td>\n",
       "      <td>2017-01-10</td>\n",
       "      <td>200</td>\n",
       "      <td>cereal</td>\n",
       "      <td>canceled</td>\n",
       "    </tr>\n",
       "  </tbody>\n",
       "</table>\n",
       "</div>"
      ],
      "text/plain": [
       "    하이루        date  amount product     result\n",
       "0  Kang  2017-01-01     500   apple  confirmed\n",
       "1   Kim  2017-01-03     700  banana  confirmed\n",
       "2  Choi  2017-01-05     800   apple  confirmed\n",
       "3  Park  2017-01-07     500  cereal   canceled\n",
       "4  Kang  2017-01-08    1200    kiwi  confirmed\n",
       "5  Choi  2017-01-09     100   melon  confirmed\n",
       "6   Lee  2017-01-09     700  banana  confirmed\n",
       "7  Yoon  2017-01-10     200  cereal   canceled"
      ]
     },
     "execution_count": 90,
     "metadata": {},
     "output_type": "execute_result"
    }
   ],
   "source": [
    "table1"
   ]
  },
  {
   "cell_type": "code",
   "execution_count": 91,
   "metadata": {},
   "outputs": [],
   "source": [
    "table1.rename(columns={'하이루':'Name'}, inplace=True)"
   ]
  },
  {
   "cell_type": "code",
   "execution_count": 93,
   "metadata": {},
   "outputs": [
    {
     "data": {
      "text/html": [
       "<div>\n",
       "<style scoped>\n",
       "    .dataframe tbody tr th:only-of-type {\n",
       "        vertical-align: middle;\n",
       "    }\n",
       "\n",
       "    .dataframe tbody tr th {\n",
       "        vertical-align: top;\n",
       "    }\n",
       "\n",
       "    .dataframe thead th {\n",
       "        text-align: right;\n",
       "    }\n",
       "</style>\n",
       "<table border=\"1\" class=\"dataframe\">\n",
       "  <thead>\n",
       "    <tr style=\"text-align: right;\">\n",
       "      <th></th>\n",
       "      <th>Name</th>\n",
       "      <th>date</th>\n",
       "      <th>amount</th>\n",
       "      <th>product</th>\n",
       "      <th>result</th>\n",
       "    </tr>\n",
       "  </thead>\n",
       "  <tbody>\n",
       "    <tr>\n",
       "      <th>0</th>\n",
       "      <td>Kang</td>\n",
       "      <td>2017-01-01</td>\n",
       "      <td>500</td>\n",
       "      <td>apple</td>\n",
       "      <td>confirmed</td>\n",
       "    </tr>\n",
       "    <tr>\n",
       "      <th>1</th>\n",
       "      <td>Kim</td>\n",
       "      <td>2017-01-03</td>\n",
       "      <td>700</td>\n",
       "      <td>banana</td>\n",
       "      <td>confirmed</td>\n",
       "    </tr>\n",
       "    <tr>\n",
       "      <th>2</th>\n",
       "      <td>Choi</td>\n",
       "      <td>2017-01-05</td>\n",
       "      <td>800</td>\n",
       "      <td>apple</td>\n",
       "      <td>confirmed</td>\n",
       "    </tr>\n",
       "    <tr>\n",
       "      <th>3</th>\n",
       "      <td>Park</td>\n",
       "      <td>2017-01-07</td>\n",
       "      <td>500</td>\n",
       "      <td>cereal</td>\n",
       "      <td>canceled</td>\n",
       "    </tr>\n",
       "    <tr>\n",
       "      <th>4</th>\n",
       "      <td>Kang</td>\n",
       "      <td>2017-01-08</td>\n",
       "      <td>1200</td>\n",
       "      <td>kiwi</td>\n",
       "      <td>confirmed</td>\n",
       "    </tr>\n",
       "    <tr>\n",
       "      <th>5</th>\n",
       "      <td>Choi</td>\n",
       "      <td>2017-01-09</td>\n",
       "      <td>100</td>\n",
       "      <td>melon</td>\n",
       "      <td>confirmed</td>\n",
       "    </tr>\n",
       "    <tr>\n",
       "      <th>6</th>\n",
       "      <td>Lee</td>\n",
       "      <td>2017-01-09</td>\n",
       "      <td>700</td>\n",
       "      <td>banana</td>\n",
       "      <td>confirmed</td>\n",
       "    </tr>\n",
       "    <tr>\n",
       "      <th>7</th>\n",
       "      <td>Yoon</td>\n",
       "      <td>2017-01-10</td>\n",
       "      <td>200</td>\n",
       "      <td>cereal</td>\n",
       "      <td>canceled</td>\n",
       "    </tr>\n",
       "  </tbody>\n",
       "</table>\n",
       "</div>"
      ],
      "text/plain": [
       "   Name        date  amount product     result\n",
       "0  Kang  2017-01-01     500   apple  confirmed\n",
       "1   Kim  2017-01-03     700  banana  confirmed\n",
       "2  Choi  2017-01-05     800   apple  confirmed\n",
       "3  Park  2017-01-07     500  cereal   canceled\n",
       "4  Kang  2017-01-08    1200    kiwi  confirmed\n",
       "5  Choi  2017-01-09     100   melon  confirmed\n",
       "6   Lee  2017-01-09     700  banana  confirmed\n",
       "7  Yoon  2017-01-10     200  cereal   canceled"
      ]
     },
     "execution_count": 93,
     "metadata": {},
     "output_type": "execute_result"
    }
   ],
   "source": [
    "table1"
   ]
  },
  {
   "cell_type": "markdown",
   "metadata": {},
   "source": [
    "# subplot"
   ]
  },
  {
   "cell_type": "code",
   "execution_count": 106,
   "metadata": {},
   "outputs": [
    {
     "data": {
      "text/plain": [
       "<matplotlib.axes._subplots.AxesSubplot at 0x7f047c1fd908>"
      ]
     },
     "execution_count": 106,
     "metadata": {},
     "output_type": "execute_result"
    },
    {
     "data": {
      "image/png": "[encoded data removed]",
      "text/plain": [
       "<Figure size 720x360 with 2 Axes>"
      ]
     },
     "metadata": {
      "image/png": {
       "height": 323,
       "width": 610
      },
      "needs_background": "light"
     },
     "output_type": "display_data"
    }
   ],
   "source": [
    "figure, ((ax1, ax2)) = plt.subplots(nrows = 1, ncols = 2, gridspec_kw = {'width_ratios':[1,3]})\n",
    "figure.set_size_inches(10,5)\n",
    "ax1.set_ylim(0, 1)\n",
    "ax2.set_xlim(0, 1500)\n",
    "\n",
    "sns.countplot(table1['product'], ax= ax1)\n",
    "sns.distplot(table1['amount'], ax= ax2)"
   ]
  },
  {
   "cell_type": "code",
   "execution_count": 109,
   "metadata": {},
   "outputs": [
    {
     "data": {
      "text/plain": [
       "<matplotlib.axes._subplots.AxesSubplot at 0x7f0479ddf390>"
      ]
     },
     "execution_count": 109,
     "metadata": {},
     "output_type": "execute_result"
    },
    {
     "data": {
      "image/png": "[encoded data removed]",
      "text/plain": [
       "<Figure size 432x288 with 1 Axes>"
      ]
     },
     "metadata": {
      "image/png": {
       "height": 268,
       "width": 393
      },
      "needs_background": "light"
     },
     "output_type": "display_data"
    }
   ],
   "source": [
    "plt.ylim(1,3)\n",
    "sns.countplot(table1['product'])\n"
   ]
  },
  {
   "cell_type": "code",
   "execution_count": null,
   "metadata": {},
   "outputs": [],
   "source": []
  }
 ],
 "metadata": {
  "kernelspec": {
   "display_name": "Python 3",
   "language": "python",
   "name": "python3"
  },
  "language_info": {
   "codemirror_mode": {
    "name": "ipython",
    "version": 3
   },
   "file_extension": ".py",
   "mimetype": "text/x-python",
   "name": "python",
   "nbconvert_exporter": "python",
   "pygments_lexer": "ipython3",
   "version": "3.6.8"
  }
 },
 "nbformat": 4,
 "nbformat_minor": 2
}
